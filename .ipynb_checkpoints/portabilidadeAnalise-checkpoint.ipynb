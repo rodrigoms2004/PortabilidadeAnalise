{
 "cells": [
  {
   "cell_type": "markdown",
   "metadata": {},
   "source": [
    "# Portabilidade e carteirização de clientes"
   ]
  },
  {
   "cell_type": "code",
   "execution_count": 1,
   "metadata": {},
   "outputs": [],
   "source": [
    "# bibliotecas úteis\n",
    "import pandas as pd\n",
    "import numpy as np"
   ]
  },
  {
   "cell_type": "code",
   "execution_count": 2,
   "metadata": {},
   "outputs": [],
   "source": [
    "carteira = pd.read_csv('./carteira_massivo.csv', ';', low_memory=False)"
   ]
  },
  {
   "cell_type": "code",
   "execution_count": 3,
   "metadata": {},
   "outputs": [
    {
     "data": {
      "text/plain": [
       "(3343013, 8)"
      ]
     },
     "execution_count": 3,
     "metadata": {},
     "output_type": "execute_result"
    }
   ],
   "source": [
    "# 3.343.013 linhas e 8 colunas\n",
    "carteira.shape"
   ]
  },
  {
   "cell_type": "code",
   "execution_count": 4,
   "metadata": {},
   "outputs": [
    {
     "data": {
      "text/plain": [
       "['COD_GRUPO',\n",
       " 'GRUPO_ECONOMICO',\n",
       " 'COD_CLI',\n",
       " 'TIPO_DOCUMENTO',\n",
       " 'DOCUMENTO',\n",
       " 'CLIENTE',\n",
       " 'SEGMENTO_CLIENTE',\n",
       " 'SEGMENTO_VALOR']"
      ]
     },
     "execution_count": 4,
     "metadata": {},
     "output_type": "execute_result"
    }
   ],
   "source": [
    "list(carteira.columns)"
   ]
  },
  {
   "cell_type": "code",
   "execution_count": 5,
   "metadata": {},
   "outputs": [
    {
     "data": {
      "text/plain": [
       "(3343013, 3)"
      ]
     },
     "execution_count": 5,
     "metadata": {},
     "output_type": "execute_result"
    }
   ],
   "source": [
    "# Cria dataframe auxiliar para visualizar parte dos dados\n",
    "\n",
    "# seleciona somente registros com CNPJ\n",
    "# df = carteira[carteira['TIPO_DOCUMENTO'] == 'CNPJ'].copy()\n",
    "# seleciona somente os columas que serão utilizadas\n",
    "# carteira_auxiliar = df[['COD_GRUPO', 'GRUPO_ECONOMICO', 'COD_CLI', 'DOCUMENTO', 'SEGMENTO_VALOR']]\n",
    "carteira_auxiliar = carteira[['GRUPO_ECONOMICO', 'DOCUMENTO', 'SEGMENTO_VALOR']].copy()\n",
    "\n",
    "carteira_auxiliar.shape"
   ]
  },
  {
   "cell_type": "code",
   "execution_count": 6,
   "metadata": {},
   "outputs": [
    {
     "data": {
      "text/plain": [
       "['Vip 1', 'Vip 2', 'Vip 3', 'NA', 'Vip 4', 'Vip 5', 'Vip 6']"
      ]
     },
     "execution_count": 6,
     "metadata": {},
     "output_type": "execute_result"
    }
   ],
   "source": [
    "# preenche os registros sem segmentação com NA, para entrar na contagem abaixo\n",
    "carteira_auxiliar = carteira_auxiliar.fillna('NA')\n",
    "\n",
    "# Mostra a quantidade de segmentações disponiveis\n",
    "list(carteira_auxiliar.drop_duplicates(subset='SEGMENTO_VALOR', keep='first')['SEGMENTO_VALOR'])"
   ]
  },
  {
   "cell_type": "code",
   "execution_count": 7,
   "metadata": {},
   "outputs": [
    {
     "data": {
      "text/html": [
       "<div>\n",
       "<style scoped>\n",
       "    .dataframe tbody tr th:only-of-type {\n",
       "        vertical-align: middle;\n",
       "    }\n",
       "\n",
       "    .dataframe tbody tr th {\n",
       "        vertical-align: top;\n",
       "    }\n",
       "\n",
       "    .dataframe thead th {\n",
       "        text-align: right;\n",
       "    }\n",
       "</style>\n",
       "<table border=\"1\" class=\"dataframe\">\n",
       "  <thead>\n",
       "    <tr style=\"text-align: right;\">\n",
       "      <th></th>\n",
       "      <th>GRUPO_ECONOMICO</th>\n",
       "      <th>DOCUMENTO</th>\n",
       "    </tr>\n",
       "    <tr>\n",
       "      <th>SEGMENTO_VALOR</th>\n",
       "      <th></th>\n",
       "      <th></th>\n",
       "    </tr>\n",
       "  </thead>\n",
       "  <tbody>\n",
       "    <tr>\n",
       "      <th>NA</th>\n",
       "      <td>27635</td>\n",
       "      <td>27635</td>\n",
       "    </tr>\n",
       "    <tr>\n",
       "      <th>Vip 1</th>\n",
       "      <td>3011848</td>\n",
       "      <td>3011848</td>\n",
       "    </tr>\n",
       "    <tr>\n",
       "      <th>Vip 2</th>\n",
       "      <td>210500</td>\n",
       "      <td>210500</td>\n",
       "    </tr>\n",
       "    <tr>\n",
       "      <th>Vip 3</th>\n",
       "      <td>88044</td>\n",
       "      <td>88044</td>\n",
       "    </tr>\n",
       "    <tr>\n",
       "      <th>Vip 4</th>\n",
       "      <td>4302</td>\n",
       "      <td>4302</td>\n",
       "    </tr>\n",
       "    <tr>\n",
       "      <th>Vip 5</th>\n",
       "      <td>377</td>\n",
       "      <td>377</td>\n",
       "    </tr>\n",
       "    <tr>\n",
       "      <th>Vip 6</th>\n",
       "      <td>307</td>\n",
       "      <td>307</td>\n",
       "    </tr>\n",
       "  </tbody>\n",
       "</table>\n",
       "</div>"
      ],
      "text/plain": [
       "                GRUPO_ECONOMICO  DOCUMENTO\n",
       "SEGMENTO_VALOR                            \n",
       "NA                        27635      27635\n",
       "Vip 1                   3011848    3011848\n",
       "Vip 2                    210500     210500\n",
       "Vip 3                     88044      88044\n",
       "Vip 4                      4302       4302\n",
       "Vip 5                       377        377\n",
       "Vip 6                       307        307"
      ]
     },
     "execution_count": 7,
     "metadata": {},
     "output_type": "execute_result"
    }
   ],
   "source": [
    "# quantidade de clientes por segmentação\n",
    "carteira_auxiliar.groupby(['SEGMENTO_VALOR']).count()\n",
    "\n",
    "\n",
    "# carteira_auxiliar[carteira_auxiliar['DOCUMENTO'] == '41327000101']\n",
    "# carteira[carteira['DOCUMENTO'] == '41327000101']\n",
    "# carteira_auxiliar.shape"
   ]
  },
  {
   "cell_type": "markdown",
   "metadata": {},
   "source": [
    "# COTAÇÕES"
   ]
  },
  {
   "cell_type": "code",
   "execution_count": 8,
   "metadata": {},
   "outputs": [],
   "source": [
    "# cotações março de 2019\n",
    "# garante que o campo documento seja string\n",
    "marco2019 = pd.read_excel('./EVOL_COTAÇOES_TOP_29.03.2019.xlsx', sheet_name=0, \\\n",
    "                          converters={'CPF/CNPJ': str}\n",
    "                         )[['COD_GRUPO', 'GRUPO_ECONOMICO', 'CPF/CNPJ']]\n",
    "\n",
    "# df = pd.read_excel('Book1.xlsx',sheetname='Sheet1',header=0,converters={'names':str,'ages':str})\n",
    "\n",
    "    \n",
    "# cotações abril de 2019\n",
    "abril2019 = pd.read_excel('./EVOL_COTAÇOES_TOP_26.04.2019.xlsx', sheet_name=0) \\\n",
    "                            [['COD_GRUPO', 'GRUPO_ECONOMICO', 'CPF/CNPJ']]\n",
    "    \n",
    "# cotações maio de 2019\n",
    "maio2019 = pd.read_excel('./EVOL_COTAÇOES_TOP_31.05.2019.xlsx', sheet_name=0) \\\n",
    "                            [['COD_GRUPO', 'GRUPO_ECONOMICO', 'CPF/CNPJ']]\n",
    "    \n",
    "# cotações junho de 2019\n",
    "junho2019 = pd.read_excel('./EVOL_COTAÇOES_TOP_ 28.06.2019.xlsx', sheet_name=0) \\\n",
    "                            [['COD_CLI', 'Cliente', 'CPF/CNPJ']]\n",
    "    \n",
    "# cotações julho de 2019\n",
    "julho2019 = pd.read_excel('./EVOL_COTAÇOES_TOP_31.07.2019.xlsx', sheet_name=0) \\\n",
    "                            [['COD_CLI', 'Cliente', 'CPF/CNPJ']]\n"
   ]
  },
  {
   "cell_type": "code",
   "execution_count": 9,
   "metadata": {},
   "outputs": [],
   "source": [
    "# padronizando as colunas de CPF/CNPJ para DOCUMENTO\n",
    "\n",
    "marco2019 = marco2019.rename(columns={\"CPF/CNPJ\": \"DOCUMENTO\"})\n",
    "abril2019 = abril2019.rename(columns={\"CPF/CNPJ\": \"DOCUMENTO\"})\n",
    "maio2019 = maio2019.rename(columns={\"CPF/CNPJ\": \"DOCUMENTO\"})\n",
    "\n",
    "junho2019 = junho2019.rename(columns={\"CPF/CNPJ\": \"DOCUMENTO\", \"COD_CLI\": \"COD_GRUPO\", \"Cliente\": \"GRUPO_ECONOMICO\"})\n",
    "julho2019 = julho2019.rename(columns={\"CPF/CNPJ\": \"DOCUMENTO\", \"COD_CLI\": \"COD_GRUPO\", \"Cliente\": \"GRUPO_ECONOMICO\"})\n",
    "    \n"
   ]
  },
  {
   "cell_type": "code",
   "execution_count": 10,
   "metadata": {},
   "outputs": [
    {
     "data": {
      "text/plain": [
       "(4922, 3)"
      ]
     },
     "execution_count": 10,
     "metadata": {},
     "output_type": "execute_result"
    }
   ],
   "source": [
    "# remove os COD_CRUPO duplicados\n",
    "# sort_values('Age', ascending=False)\n",
    "# df = df.drop_duplicates(subset='COD_GRUPO', keep='first')\n",
    "# print(df)\n",
    "# marco2019.shape\n",
    "\n",
    "\n",
    "marco2019.shape"
   ]
  },
  {
   "cell_type": "markdown",
   "metadata": {},
   "source": [
    "# COTAÇÕES 2019"
   ]
  },
  {
   "cell_type": "code",
   "execution_count": 36,
   "metadata": {
    "scrolled": true
   },
   "outputs": [],
   "source": [
    "# faz o join entre as carteiras e os meses\n",
    "carteiraMarco2019 = pd.merge(marco2019, carteira_auxiliar, how='left', on='DOCUMENTO')\n",
    "carteiraAbril2019 = pd.merge(abril2019, carteira_auxiliar, how='left', on='DOCUMENTO')\n",
    "carteiraMaio2019 = pd.merge(maio2019, carteira_auxiliar, how='left', on='DOCUMENTO')\n",
    "carteiraJunho2019 = pd.merge(junho2019, carteira_auxiliar, how='left', on='DOCUMENTO')\n",
    "carteiraJulho2019 = pd.merge(julho2019, carteira_auxiliar, how='left', on='DOCUMENTO')\n",
    "\n",
    "# carteiraMarco2019.drop_duplicates(subset='SEGMENTO_VALOR', keep='first')"
   ]
  },
  {
   "cell_type": "code",
   "execution_count": 37,
   "metadata": {},
   "outputs": [
    {
     "data": {
      "text/plain": [
       "(5155, 5)"
      ]
     },
     "execution_count": 37,
     "metadata": {},
     "output_type": "execute_result"
    }
   ],
   "source": [
    "# preenche os registros sem segmentação com NA, para entrar na contagem abaixo\n",
    "carteiraMarco2019 = carteiraMarco2019.fillna('NA')\n",
    "carteiraAbril2019 = carteiraAbril2019.fillna('NA')\n",
    "carteiraMaio2019 = carteiraMaio2019.fillna('NA')\n",
    "carteiraJunho2019 = carteiraJunho2019.fillna('NA')\n",
    "carteiraJulho2019 = carteiraJulho2019.fillna('NA')"
   ]
  },
  {
   "cell_type": "markdown",
   "metadata": {},
   "source": [
    "## Remoção dos clientes duplicados"
   ]
  },
  {
   "cell_type": "code",
   "execution_count": 38,
   "metadata": {},
   "outputs": [
    {
     "data": {
      "text/plain": [
       "(2221, 5)"
      ]
     },
     "execution_count": 38,
     "metadata": {},
     "output_type": "execute_result"
    }
   ],
   "source": [
    "carteiraMarco2019 = carteiraMarco2019.drop_duplicates(subset='DOCUMENTO', keep='first')\n",
    "carteiraAbril2019 = carteiraAbril2019.drop_duplicates(subset='DOCUMENTO', keep='first')\n",
    "carteiraMaio2019 = carteiraMaio2019.drop_duplicates(subset='DOCUMENTO', keep='first')\n",
    "carteiraJunho = carteiraJunho2019.drop_duplicates(subset='DOCUMENTO', keep='first')\n",
    "carteiraJulho = carteiraJulho2019.drop_duplicates(subset='DOCUMENTO', keep='first')\n"
   ]
  },
  {
   "cell_type": "markdown",
   "metadata": {},
   "source": [
    "## SEGMENTAÇÃO DE CLIENTES MAIO 2019"
   ]
  },
  {
   "cell_type": "code",
   "execution_count": 28,
   "metadata": {},
   "outputs": [
    {
     "data": {
      "text/html": [
       "<div>\n",
       "<style scoped>\n",
       "    .dataframe tbody tr th:only-of-type {\n",
       "        vertical-align: middle;\n",
       "    }\n",
       "\n",
       "    .dataframe tbody tr th {\n",
       "        vertical-align: top;\n",
       "    }\n",
       "\n",
       "    .dataframe thead th {\n",
       "        text-align: right;\n",
       "    }\n",
       "</style>\n",
       "<table border=\"1\" class=\"dataframe\">\n",
       "  <thead>\n",
       "    <tr style=\"text-align: right;\">\n",
       "      <th></th>\n",
       "      <th>COD_GRUPO</th>\n",
       "      <th>GRUPO_ECONOMICO_x</th>\n",
       "      <th>DOCUMENTO</th>\n",
       "      <th>GRUPO_ECONOMICO_y</th>\n",
       "    </tr>\n",
       "    <tr>\n",
       "      <th>SEGMENTO_VALOR</th>\n",
       "      <th></th>\n",
       "      <th></th>\n",
       "      <th></th>\n",
       "      <th></th>\n",
       "    </tr>\n",
       "  </thead>\n",
       "  <tbody>\n",
       "    <tr>\n",
       "      <th>NA</th>\n",
       "      <td>2043</td>\n",
       "      <td>2043</td>\n",
       "      <td>2043</td>\n",
       "      <td>2043</td>\n",
       "    </tr>\n",
       "    <tr>\n",
       "      <th>Vip 1</th>\n",
       "      <td>16</td>\n",
       "      <td>16</td>\n",
       "      <td>16</td>\n",
       "      <td>16</td>\n",
       "    </tr>\n",
       "  </tbody>\n",
       "</table>\n",
       "</div>"
      ],
      "text/plain": [
       "                COD_GRUPO  GRUPO_ECONOMICO_x  DOCUMENTO  GRUPO_ECONOMICO_y\n",
       "SEGMENTO_VALOR                                                            \n",
       "NA                   2043               2043       2043               2043\n",
       "Vip 1                  16                 16         16                 16"
      ]
     },
     "execution_count": 28,
     "metadata": {},
     "output_type": "execute_result"
    }
   ],
   "source": [
    "# quantidade de clientes por segmentação em Maio 2019\n",
    "carteiraMarco2019.groupby(['SEGMENTO_VALOR']).count()"
   ]
  },
  {
   "cell_type": "markdown",
   "metadata": {},
   "source": [
    "## SEGMENTAÇÃO DE CLIENTES ABRIL 2019"
   ]
  },
  {
   "cell_type": "code",
   "execution_count": 39,
   "metadata": {},
   "outputs": [
    {
     "data": {
      "text/html": [
       "<div>\n",
       "<style scoped>\n",
       "    .dataframe tbody tr th:only-of-type {\n",
       "        vertical-align: middle;\n",
       "    }\n",
       "\n",
       "    .dataframe tbody tr th {\n",
       "        vertical-align: top;\n",
       "    }\n",
       "\n",
       "    .dataframe thead th {\n",
       "        text-align: right;\n",
       "    }\n",
       "</style>\n",
       "<table border=\"1\" class=\"dataframe\">\n",
       "  <thead>\n",
       "    <tr style=\"text-align: right;\">\n",
       "      <th></th>\n",
       "      <th>COD_GRUPO</th>\n",
       "      <th>GRUPO_ECONOMICO_x</th>\n",
       "      <th>DOCUMENTO</th>\n",
       "      <th>GRUPO_ECONOMICO_y</th>\n",
       "    </tr>\n",
       "    <tr>\n",
       "      <th>SEGMENTO_VALOR</th>\n",
       "      <th></th>\n",
       "      <th></th>\n",
       "      <th></th>\n",
       "      <th></th>\n",
       "    </tr>\n",
       "  </thead>\n",
       "  <tbody>\n",
       "    <tr>\n",
       "      <th>NA</th>\n",
       "      <td>2221</td>\n",
       "      <td>2221</td>\n",
       "      <td>2221</td>\n",
       "      <td>2221</td>\n",
       "    </tr>\n",
       "  </tbody>\n",
       "</table>\n",
       "</div>"
      ],
      "text/plain": [
       "                COD_GRUPO  GRUPO_ECONOMICO_x  DOCUMENTO  GRUPO_ECONOMICO_y\n",
       "SEGMENTO_VALOR                                                            \n",
       "NA                   2221               2221       2221               2221"
      ]
     },
     "execution_count": 39,
     "metadata": {},
     "output_type": "execute_result"
    }
   ],
   "source": [
    "carteiraAbril2019.groupby(['SEGMENTO_VALOR']).count()"
   ]
  },
  {
   "cell_type": "markdown",
   "metadata": {},
   "source": [
    "## SEGMENTAÇÃO DE CLIENTES MAIO 2019"
   ]
  },
  {
   "cell_type": "code",
   "execution_count": 41,
   "metadata": {},
   "outputs": [
    {
     "data": {
      "text/html": [
       "<div>\n",
       "<style scoped>\n",
       "    .dataframe tbody tr th:only-of-type {\n",
       "        vertical-align: middle;\n",
       "    }\n",
       "\n",
       "    .dataframe tbody tr th {\n",
       "        vertical-align: top;\n",
       "    }\n",
       "\n",
       "    .dataframe thead th {\n",
       "        text-align: right;\n",
       "    }\n",
       "</style>\n",
       "<table border=\"1\" class=\"dataframe\">\n",
       "  <thead>\n",
       "    <tr style=\"text-align: right;\">\n",
       "      <th></th>\n",
       "      <th>COD_GRUPO</th>\n",
       "      <th>GRUPO_ECONOMICO_x</th>\n",
       "      <th>DOCUMENTO</th>\n",
       "      <th>GRUPO_ECONOMICO_y</th>\n",
       "    </tr>\n",
       "    <tr>\n",
       "      <th>SEGMENTO_VALOR</th>\n",
       "      <th></th>\n",
       "      <th></th>\n",
       "      <th></th>\n",
       "      <th></th>\n",
       "    </tr>\n",
       "  </thead>\n",
       "  <tbody>\n",
       "    <tr>\n",
       "      <th>NA</th>\n",
       "      <td>2489</td>\n",
       "      <td>2489</td>\n",
       "      <td>2489</td>\n",
       "      <td>2489</td>\n",
       "    </tr>\n",
       "  </tbody>\n",
       "</table>\n",
       "</div>"
      ],
      "text/plain": [
       "                COD_GRUPO  GRUPO_ECONOMICO_x  DOCUMENTO  GRUPO_ECONOMICO_y\n",
       "SEGMENTO_VALOR                                                            \n",
       "NA                   2489               2489       2489               2489"
      ]
     },
     "execution_count": 41,
     "metadata": {},
     "output_type": "execute_result"
    }
   ],
   "source": [
    "carteiraMaio2019.groupby(['SEGMENTO_VALOR']).count()"
   ]
  },
  {
   "cell_type": "markdown",
   "metadata": {},
   "source": [
    "## SEGMENTAÇÃO DE CLIENTES JUNHO 2019\n"
   ]
  },
  {
   "cell_type": "code",
   "execution_count": 43,
   "metadata": {},
   "outputs": [
    {
     "data": {
      "text/html": [
       "<div>\n",
       "<style scoped>\n",
       "    .dataframe tbody tr th:only-of-type {\n",
       "        vertical-align: middle;\n",
       "    }\n",
       "\n",
       "    .dataframe tbody tr th {\n",
       "        vertical-align: top;\n",
       "    }\n",
       "\n",
       "    .dataframe thead th {\n",
       "        text-align: right;\n",
       "    }\n",
       "</style>\n",
       "<table border=\"1\" class=\"dataframe\">\n",
       "  <thead>\n",
       "    <tr style=\"text-align: right;\">\n",
       "      <th></th>\n",
       "      <th>COD_GRUPO</th>\n",
       "      <th>GRUPO_ECONOMICO_x</th>\n",
       "      <th>DOCUMENTO</th>\n",
       "      <th>GRUPO_ECONOMICO_y</th>\n",
       "    </tr>\n",
       "    <tr>\n",
       "      <th>SEGMENTO_VALOR</th>\n",
       "      <th></th>\n",
       "      <th></th>\n",
       "      <th></th>\n",
       "      <th></th>\n",
       "    </tr>\n",
       "  </thead>\n",
       "  <tbody>\n",
       "    <tr>\n",
       "      <th>NA</th>\n",
       "      <td>7233</td>\n",
       "      <td>7233</td>\n",
       "      <td>7233</td>\n",
       "      <td>7233</td>\n",
       "    </tr>\n",
       "  </tbody>\n",
       "</table>\n",
       "</div>"
      ],
      "text/plain": [
       "                COD_GRUPO  GRUPO_ECONOMICO_x  DOCUMENTO  GRUPO_ECONOMICO_y\n",
       "SEGMENTO_VALOR                                                            \n",
       "NA                   7233               7233       7233               7233"
      ]
     },
     "execution_count": 43,
     "metadata": {},
     "output_type": "execute_result"
    }
   ],
   "source": [
    "carteiraJunho2019.groupby(['SEGMENTO_VALOR']).count()"
   ]
  },
  {
   "cell_type": "markdown",
   "metadata": {},
   "source": [
    "## SEGMENTAÇÃO DE CLIENTES JULHO 2019\n"
   ]
  },
  {
   "cell_type": "code",
   "execution_count": 44,
   "metadata": {},
   "outputs": [
    {
     "data": {
      "text/html": [
       "<div>\n",
       "<style scoped>\n",
       "    .dataframe tbody tr th:only-of-type {\n",
       "        vertical-align: middle;\n",
       "    }\n",
       "\n",
       "    .dataframe tbody tr th {\n",
       "        vertical-align: top;\n",
       "    }\n",
       "\n",
       "    .dataframe thead th {\n",
       "        text-align: right;\n",
       "    }\n",
       "</style>\n",
       "<table border=\"1\" class=\"dataframe\">\n",
       "  <thead>\n",
       "    <tr style=\"text-align: right;\">\n",
       "      <th></th>\n",
       "      <th>COD_GRUPO</th>\n",
       "      <th>GRUPO_ECONOMICO_x</th>\n",
       "      <th>DOCUMENTO</th>\n",
       "      <th>GRUPO_ECONOMICO_y</th>\n",
       "    </tr>\n",
       "    <tr>\n",
       "      <th>SEGMENTO_VALOR</th>\n",
       "      <th></th>\n",
       "      <th></th>\n",
       "      <th></th>\n",
       "      <th></th>\n",
       "    </tr>\n",
       "  </thead>\n",
       "  <tbody>\n",
       "    <tr>\n",
       "      <th>NA</th>\n",
       "      <td>5864</td>\n",
       "      <td>5864</td>\n",
       "      <td>5864</td>\n",
       "      <td>5864</td>\n",
       "    </tr>\n",
       "  </tbody>\n",
       "</table>\n",
       "</div>"
      ],
      "text/plain": [
       "                COD_GRUPO  GRUPO_ECONOMICO_x  DOCUMENTO  GRUPO_ECONOMICO_y\n",
       "SEGMENTO_VALOR                                                            \n",
       "NA                   5864               5864       5864               5864"
      ]
     },
     "execution_count": 44,
     "metadata": {},
     "output_type": "execute_result"
    }
   ],
   "source": [
    "carteiraJulho2019.groupby(['SEGMENTO_VALOR']).count()"
   ]
  },
  {
   "cell_type": "code",
   "execution_count": null,
   "metadata": {},
   "outputs": [],
   "source": []
  },
  {
   "cell_type": "code",
   "execution_count": null,
   "metadata": {},
   "outputs": [],
   "source": []
  },
  {
   "cell_type": "code",
   "execution_count": null,
   "metadata": {},
   "outputs": [],
   "source": []
  },
  {
   "cell_type": "code",
   "execution_count": null,
   "metadata": {},
   "outputs": [],
   "source": [
    "# carteiraMarco2019.shape\n",
    "\n",
    "\n",
    "# carteiraMaio2019.drop_duplicates(subset='SEGMENTO_VALOR', keep='first')\n",
    "\n",
    "\n",
    "\n",
    "# list(carteiraMaio2019.drop_duplicates(subset='SEGMENTO_VALOR', keep='first')['SEGMENTO_VALOR'])\n",
    "\n",
    "\n",
    "# df[df['Fruit'].str.contains(\"1\")]\n",
    "# carteiraMaio2019[carteiraMaio2019['SEGMENTO_VALOR'].str.contains(\"Vip 4\", na=False)]\n"
   ]
  }
 ],
 "metadata": {
  "kernelspec": {
   "display_name": "Python 3",
   "language": "python",
   "name": "python3"
  },
  "language_info": {
   "codemirror_mode": {
    "name": "ipython",
    "version": 3
   },
   "file_extension": ".py",
   "mimetype": "text/x-python",
   "name": "python",
   "nbconvert_exporter": "python",
   "pygments_lexer": "ipython3",
   "version": "3.6.8"
  }
 },
 "nbformat": 4,
 "nbformat_minor": 2
}
