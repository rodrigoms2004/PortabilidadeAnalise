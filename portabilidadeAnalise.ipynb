{
 "cells": [
  {
   "cell_type": "markdown",
   "metadata": {},
   "source": [
    "# Portabilidade e carteirização de clientes"
   ]
  },
  {
   "cell_type": "code",
   "execution_count": 1,
   "metadata": {},
   "outputs": [],
   "source": [
    "# bibliotecas úteis\n",
    "import pandas as pd\n",
    "import numpy as np\n",
    "import matplotlib\n",
    "import matplotlib.pyplot as plt\n"
   ]
  },
  {
   "cell_type": "markdown",
   "metadata": {},
   "source": [
    "## Carteira Massivo"
   ]
  },
  {
   "cell_type": "code",
   "execution_count": 2,
   "metadata": {},
   "outputs": [],
   "source": [
    "carteira = pd.read_csv('./carteira_massivo.csv', ';', low_memory=False)"
   ]
  },
  {
   "cell_type": "code",
   "execution_count": 3,
   "metadata": {},
   "outputs": [
    {
     "name": "stdout",
     "output_type": "stream",
     "text": [
      "Carteira possui 3343013 registros\n"
     ]
    }
   ],
   "source": [
    "print('Carteira possui', carteira.shape[0], 'registros')"
   ]
  },
  {
   "cell_type": "code",
   "execution_count": 4,
   "metadata": {},
   "outputs": [
    {
     "data": {
      "text/plain": [
       "['COD_GRUPO',\n",
       " 'GRUPO_ECONOMICO',\n",
       " 'COD_CLI',\n",
       " 'TIPO_DOCUMENTO',\n",
       " 'DOCUMENTO',\n",
       " 'CLIENTE',\n",
       " 'SEGMENTO_CLIENTE',\n",
       " 'SEGMENTO_VALOR']"
      ]
     },
     "execution_count": 4,
     "metadata": {},
     "output_type": "execute_result"
    }
   ],
   "source": [
    "# Colunas disponíveis na carteira\n",
    "list(carteira.columns)"
   ]
  },
  {
   "cell_type": "code",
   "execution_count": 5,
   "metadata": {},
   "outputs": [
    {
     "name": "stdout",
     "output_type": "stream",
     "text": [
      "Carteira possui 3343013 registros\n"
     ]
    }
   ],
   "source": [
    "# Cria dataframe auxiliar para visualizar parte dos dados\n",
    "carteira_auxiliar = carteira[['DOCUMENTO', 'SEGMENTO_VALOR']].copy()\n",
    "\n",
    "print('Carteira possui', carteira_auxiliar.shape[0], 'registros')"
   ]
  },
  {
   "cell_type": "code",
   "execution_count": 6,
   "metadata": {},
   "outputs": [
    {
     "data": {
      "text/plain": [
       "['Vip 1', 'Vip 2', 'Vip 3', 'NA', 'Vip 4', 'Vip 5', 'Vip 6']"
      ]
     },
     "execution_count": 6,
     "metadata": {},
     "output_type": "execute_result"
    }
   ],
   "source": [
    "# preenche os registros sem segmentação com NA, para entrar na contagem abaixo\n",
    "carteira_auxiliar = carteira_auxiliar.fillna('NA')\n",
    "\n",
    "# Mostra a quantidade de segmentações disponiveis\n",
    "list(carteira_auxiliar.drop_duplicates(subset='SEGMENTO_VALOR', keep='first')['SEGMENTO_VALOR'])"
   ]
  },
  {
   "cell_type": "code",
   "execution_count": 7,
   "metadata": {},
   "outputs": [
    {
     "data": {
      "text/html": [
       "<div>\n",
       "<style scoped>\n",
       "    .dataframe tbody tr th:only-of-type {\n",
       "        vertical-align: middle;\n",
       "    }\n",
       "\n",
       "    .dataframe tbody tr th {\n",
       "        vertical-align: top;\n",
       "    }\n",
       "\n",
       "    .dataframe thead th {\n",
       "        text-align: right;\n",
       "    }\n",
       "</style>\n",
       "<table border=\"1\" class=\"dataframe\">\n",
       "  <thead>\n",
       "    <tr style=\"text-align: right;\">\n",
       "      <th></th>\n",
       "      <th>DOCUMENTO</th>\n",
       "    </tr>\n",
       "    <tr>\n",
       "      <th>SEGMENTO_VALOR</th>\n",
       "      <th></th>\n",
       "    </tr>\n",
       "  </thead>\n",
       "  <tbody>\n",
       "    <tr>\n",
       "      <th>NA</th>\n",
       "      <td>27635</td>\n",
       "    </tr>\n",
       "    <tr>\n",
       "      <th>Vip 1</th>\n",
       "      <td>3011848</td>\n",
       "    </tr>\n",
       "    <tr>\n",
       "      <th>Vip 2</th>\n",
       "      <td>210500</td>\n",
       "    </tr>\n",
       "    <tr>\n",
       "      <th>Vip 3</th>\n",
       "      <td>88044</td>\n",
       "    </tr>\n",
       "    <tr>\n",
       "      <th>Vip 4</th>\n",
       "      <td>4302</td>\n",
       "    </tr>\n",
       "    <tr>\n",
       "      <th>Vip 5</th>\n",
       "      <td>377</td>\n",
       "    </tr>\n",
       "    <tr>\n",
       "      <th>Vip 6</th>\n",
       "      <td>307</td>\n",
       "    </tr>\n",
       "  </tbody>\n",
       "</table>\n",
       "</div>"
      ],
      "text/plain": [
       "                DOCUMENTO\n",
       "SEGMENTO_VALOR           \n",
       "NA                  27635\n",
       "Vip 1             3011848\n",
       "Vip 2              210500\n",
       "Vip 3               88044\n",
       "Vip 4                4302\n",
       "Vip 5                 377\n",
       "Vip 6                 307"
      ]
     },
     "execution_count": 7,
     "metadata": {},
     "output_type": "execute_result"
    }
   ],
   "source": [
    "# quantidade de clientes por segmentação\n",
    "carteira_auxiliar.groupby(['SEGMENTO_VALOR']).count()\n"
   ]
  },
  {
   "cell_type": "markdown",
   "metadata": {},
   "source": [
    "## Carteira sem massivo"
   ]
  },
  {
   "cell_type": "code",
   "execution_count": 8,
   "metadata": {},
   "outputs": [],
   "source": [
    "carteiraTOP = pd.read_csv('./Carteira_sem_Massivo.csv', ';', low_memory=False)"
   ]
  },
  {
   "cell_type": "code",
   "execution_count": 9,
   "metadata": {},
   "outputs": [
    {
     "name": "stdout",
     "output_type": "stream",
     "text": [
      "Carteira sem massivo possui 155906 registros\n"
     ]
    }
   ],
   "source": [
    "print('Carteira sem massivo possui', carteiraTOP.shape[0], 'registros')"
   ]
  },
  {
   "cell_type": "code",
   "execution_count": 10,
   "metadata": {},
   "outputs": [
    {
     "data": {
      "text/plain": [
       "['COD_GRUPO',\n",
       " 'GRUPO_ECONOMICO',\n",
       " 'COD_CLI',\n",
       " 'TIPO_DOCUMENTO',\n",
       " 'DOCUMENTO',\n",
       " 'CLIENTE',\n",
       " 'SEGMENTO_CLIENTE',\n",
       " 'SEGMENTO_VALOR']"
      ]
     },
     "execution_count": 10,
     "metadata": {},
     "output_type": "execute_result"
    }
   ],
   "source": [
    "list(carteiraTOP.columns)"
   ]
  },
  {
   "cell_type": "code",
   "execution_count": 11,
   "metadata": {},
   "outputs": [],
   "source": [
    "carteiraTOP_auxiliar = carteiraTOP[['DOCUMENTO', 'SEGMENTO_VALOR']].copy()\n"
   ]
  },
  {
   "cell_type": "code",
   "execution_count": 12,
   "metadata": {},
   "outputs": [
    {
     "data": {
      "text/plain": [
       "['Vip 6',\n",
       " 'Vip 4',\n",
       " 'Vip 3',\n",
       " 'Vip 5',\n",
       " 'NA',\n",
       " 'Vip 7',\n",
       " 'Vip 1',\n",
       " 'Vip 2',\n",
       " 'Governo',\n",
       " 'B',\n",
       " 'C']"
      ]
     },
     "execution_count": 12,
     "metadata": {},
     "output_type": "execute_result"
    }
   ],
   "source": [
    "# preenche os registros sem segmentação com NA, para entrar na contagem abaixo\n",
    "carteiraTOP_auxiliar = carteiraTOP_auxiliar.fillna('NA')\n",
    "\n",
    "# Mostra a quantidade de segmentações disponiveis\n",
    "list(carteiraTOP_auxiliar.drop_duplicates(subset='SEGMENTO_VALOR', keep='first')['SEGMENTO_VALOR'])"
   ]
  },
  {
   "cell_type": "code",
   "execution_count": 13,
   "metadata": {},
   "outputs": [
    {
     "data": {
      "text/html": [
       "<div>\n",
       "<style scoped>\n",
       "    .dataframe tbody tr th:only-of-type {\n",
       "        vertical-align: middle;\n",
       "    }\n",
       "\n",
       "    .dataframe tbody tr th {\n",
       "        vertical-align: top;\n",
       "    }\n",
       "\n",
       "    .dataframe thead th {\n",
       "        text-align: right;\n",
       "    }\n",
       "</style>\n",
       "<table border=\"1\" class=\"dataframe\">\n",
       "  <thead>\n",
       "    <tr style=\"text-align: right;\">\n",
       "      <th></th>\n",
       "      <th>DOCUMENTO</th>\n",
       "    </tr>\n",
       "    <tr>\n",
       "      <th>SEGMENTO_VALOR</th>\n",
       "      <th></th>\n",
       "    </tr>\n",
       "  </thead>\n",
       "  <tbody>\n",
       "    <tr>\n",
       "      <th>B</th>\n",
       "      <td>6</td>\n",
       "    </tr>\n",
       "    <tr>\n",
       "      <th>C</th>\n",
       "      <td>13</td>\n",
       "    </tr>\n",
       "    <tr>\n",
       "      <th>Governo</th>\n",
       "      <td>1</td>\n",
       "    </tr>\n",
       "    <tr>\n",
       "      <th>NA</th>\n",
       "      <td>5274</td>\n",
       "    </tr>\n",
       "    <tr>\n",
       "      <th>Vip 1</th>\n",
       "      <td>603</td>\n",
       "    </tr>\n",
       "    <tr>\n",
       "      <th>Vip 2</th>\n",
       "      <td>823</td>\n",
       "    </tr>\n",
       "    <tr>\n",
       "      <th>Vip 3</th>\n",
       "      <td>55914</td>\n",
       "    </tr>\n",
       "    <tr>\n",
       "      <th>Vip 4</th>\n",
       "      <td>40607</td>\n",
       "    </tr>\n",
       "    <tr>\n",
       "      <th>Vip 5</th>\n",
       "      <td>13865</td>\n",
       "    </tr>\n",
       "    <tr>\n",
       "      <th>Vip 6</th>\n",
       "      <td>18771</td>\n",
       "    </tr>\n",
       "    <tr>\n",
       "      <th>Vip 7</th>\n",
       "      <td>20029</td>\n",
       "    </tr>\n",
       "  </tbody>\n",
       "</table>\n",
       "</div>"
      ],
      "text/plain": [
       "                DOCUMENTO\n",
       "SEGMENTO_VALOR           \n",
       "B                       6\n",
       "C                      13\n",
       "Governo                 1\n",
       "NA                   5274\n",
       "Vip 1                 603\n",
       "Vip 2                 823\n",
       "Vip 3               55914\n",
       "Vip 4               40607\n",
       "Vip 5               13865\n",
       "Vip 6               18771\n",
       "Vip 7               20029"
      ]
     },
     "execution_count": 13,
     "metadata": {},
     "output_type": "execute_result"
    }
   ],
   "source": [
    "# quantidade de clientes por segmentação\n",
    "carteiraTOP_auxiliar.groupby(['SEGMENTO_VALOR']).count()"
   ]
  },
  {
   "cell_type": "code",
   "execution_count": 14,
   "metadata": {},
   "outputs": [],
   "source": [
    "# REMOVE OS ZEROS A ESQUERDA DO DOCUMENTO (CNPJ)\n",
    "carteiraTOP_auxiliar['DOCUMENTO'] = carteiraTOP_auxiliar['DOCUMENTO'].str.replace(r'^[0]{1,}', '', 1)"
   ]
  },
  {
   "cell_type": "markdown",
   "metadata": {},
   "source": [
    "## SUPERCARTEIRA"
   ]
  },
  {
   "cell_type": "code",
   "execution_count": 15,
   "metadata": {},
   "outputs": [
    {
     "name": "stdout",
     "output_type": "stream",
     "text": [
      "Carteira TOP sem massivo: (155906, 2)\n",
      "Carteira com massivo:     (3343013, 2)\n",
      "TOTAL: 3498919\n"
     ]
    }
   ],
   "source": [
    "print(\"Carteira TOP sem massivo:\", carteiraTOP_auxiliar.shape)\n",
    "print(\"Carteira com massivo:    \", carteira_auxiliar.shape)\n",
    "print(\"TOTAL:\", carteiraTOP_auxiliar.shape[0] + carteira_auxiliar.shape[0])"
   ]
  },
  {
   "cell_type": "code",
   "execution_count": 16,
   "metadata": {},
   "outputs": [
    {
     "data": {
      "text/plain": [
       "(3498919, 2)"
      ]
     },
     "execution_count": 16,
     "metadata": {},
     "output_type": "execute_result"
    }
   ],
   "source": [
    "# Funde as duas carteiras\n",
    "superCarteira = carteira_auxiliar.append(carteiraTOP_auxiliar)\n",
    "superCarteira.shape"
   ]
  },
  {
   "cell_type": "code",
   "execution_count": 17,
   "metadata": {},
   "outputs": [],
   "source": [
    "# remoção de duplicados\n",
    "superCarteira = superCarteira.drop_duplicates(subset='DOCUMENTO', keep='first')\n"
   ]
  },
  {
   "cell_type": "code",
   "execution_count": 18,
   "metadata": {},
   "outputs": [],
   "source": [
    "# superCarteira[superCarteira['DOCUMENTO'] == 'COLOQUE O CNPJ AQUI']"
   ]
  },
  {
   "cell_type": "markdown",
   "metadata": {},
   "source": [
    "## COTAÇÕES"
   ]
  },
  {
   "cell_type": "code",
   "execution_count": 19,
   "metadata": {},
   "outputs": [],
   "source": [
    "# cotações outubro de 2018\n",
    "outubro2018 = pd.read_excel('./2018/EVOL_COTAÇOES_TOP_31.10.2018.xlsx', sheet_name=0, \\\n",
    "                          converters={'CPF/CNPJ': str} \\\n",
    "                         )[['COD_GRUPO', 'GRUPO_ECONOMICO', 'CPF/CNPJ']]\n",
    "\n",
    "\n",
    "# cotações novembro de 2018\n",
    "novembro2018 = pd.read_excel('./2018/EVOL_COTAÇOES_TOP_30.11.2018.xlsx', sheet_name=0, \\\n",
    "                          converters={'CPF/CNPJ': str} \\\n",
    "                         )[['COD_GRUPO', 'GRUPO_ECONOMICO', 'CPF/CNPJ']]\n",
    "\n",
    "\n",
    "# cotações dezembro de 2018\n",
    "dezembro2018 = pd.read_excel('./2018/EVOL_COTAÇOES_TOP_17.12.2018.xlsx', sheet_name=0, \\\n",
    "                          converters={'CPF/CNPJ': str} \\\n",
    "                         )[['COD_GRUPO', 'GRUPO_ECONOMICO', 'CPF/CNPJ']]\n"
   ]
  },
  {
   "cell_type": "code",
   "execution_count": 20,
   "metadata": {},
   "outputs": [],
   "source": [
    "# cotações janeiro de 2019\n",
    "janeiro2019 = pd.read_excel('./2019/EVOL_COTAÇOES_TOP_29.01.2019.xlsx', sheet_name=0, \\\n",
    "                          converters={'CPF/CNPJ': str} \\\n",
    "                         )[['COD_GRUPO', 'GRUPO_ECONOMICO', 'CPF/CNPJ']]\n",
    "\n",
    "\n",
    "# cotações fevereiro de 2019\n",
    "fevereiro2019 = pd.read_excel('./2019/EVOL_COTAÇOES_TOP_28.02.2019.xlsx', sheet_name=0, \\\n",
    "                          converters={'CPF/CNPJ': str} \\\n",
    "                         )[['COD_GRUPO', 'GRUPO_ECONOMICO', 'CPF/CNPJ']]\n",
    "\n",
    "# cotações março de 2019\n",
    "marco2019 = pd.read_excel('./2019/EVOL_COTAÇOES_TOP_29.03.2019.xlsx', sheet_name=0, \\\n",
    "                          converters={'CPF/CNPJ': str} \\\n",
    "                         )[['COD_GRUPO', 'GRUPO_ECONOMICO', 'CPF/CNPJ']]\n",
    "\n",
    "    \n",
    "# cotações abril de 2019\n",
    "abril2019 = pd.read_excel('./2019/EVOL_COTAÇOES_TOP_26.04.2019.xlsx', sheet_name=0, \\\n",
    "                            converters={'CPF/CNPJ': str} \\\n",
    "                         )[['COD_GRUPO', 'GRUPO_ECONOMICO', 'CPF/CNPJ']]\n",
    "    \n",
    "# cotações maio de 2019\n",
    "maio2019 = pd.read_excel('./2019/EVOL_COTAÇOES_TOP_31.05.2019.xlsx', sheet_name=0, \\\n",
    "                            converters={'CPF/CNPJ': str} \\\n",
    "                        )[['COD_GRUPO', 'GRUPO_ECONOMICO', 'CPF/CNPJ']]\n",
    "    \n",
    "# cotações junho de 2019\n",
    "junho2019 = pd.read_excel('./2019/EVOL_COTAÇOES_TOP_ 28.06.2019.xlsx', sheet_name=0, \\\n",
    "                            converters={'CPF/CNPJ': str} \\\n",
    "                         )[['COD_CLI', 'Cliente', 'CPF/CNPJ']]\n",
    "    \n",
    "# cotações julho de 2019\n",
    "julho2019 = pd.read_excel('./2019/EVOL_COTAÇOES_TOP_31.07.2019.xlsx', sheet_name=0, \\\n",
    "                            converters={'CPF/CNPJ': str} \\\n",
    "                         )[['COD_CLI', 'Cliente', 'CPF/CNPJ']]\n",
    "\n",
    "    "
   ]
  },
  {
   "cell_type": "code",
   "execution_count": 21,
   "metadata": {},
   "outputs": [],
   "source": [
    "# padronizando as colunas de CPF/CNPJ para DOCUMENTO\n",
    "\n",
    "# 2018\n",
    "outubro2018 = outubro2018.rename(columns={\"CPF/CNPJ\": \"DOCUMENTO\"})\n",
    "novembro2018 = novembro2018.rename(columns={\"CPF/CNPJ\": \"DOCUMENTO\"})\n",
    "dezembro2018 = dezembro2018.rename(columns={\"CPF/CNPJ\": \"DOCUMENTO\"})\n",
    "\n",
    "# 2019\n",
    "janeiro2019 = janeiro2019.rename(columns={\"CPF/CNPJ\": \"DOCUMENTO\"})\n",
    "fevereiro2019 = fevereiro2019.rename(columns={\"CPF/CNPJ\": \"DOCUMENTO\"})\n",
    "marco2019 = marco2019.rename(columns={\"CPF/CNPJ\": \"DOCUMENTO\"})\n",
    "abril2019 = abril2019.rename(columns={\"CPF/CNPJ\": \"DOCUMENTO\"})\n",
    "maio2019 = maio2019.rename(columns={\"CPF/CNPJ\": \"DOCUMENTO\"})\n",
    "\n",
    "junho2019 = junho2019.rename(columns={\"CPF/CNPJ\": \"DOCUMENTO\", \"COD_CLI\": \"COD_GRUPO\", \"Cliente\": \"GRUPO_ECONOMICO\"})\n",
    "julho2019 = julho2019.rename(columns={\"CPF/CNPJ\": \"DOCUMENTO\", \"COD_CLI\": \"COD_GRUPO\", \"Cliente\": \"GRUPO_ECONOMICO\"})\n",
    "    \n"
   ]
  },
  {
   "cell_type": "markdown",
   "metadata": {},
   "source": [
    "# COTAÇÕES 2018/2019"
   ]
  },
  {
   "cell_type": "code",
   "execution_count": 22,
   "metadata": {
    "scrolled": true
   },
   "outputs": [],
   "source": [
    "# faz o join entre as carteiras e os meses\n",
    "\n",
    "# 2018\n",
    "carteiraOutubro2018 = pd.merge(outubro2018, superCarteira, how='left', on='DOCUMENTO')\n",
    "carteiraNovembro2018 = pd.merge(novembro2018, superCarteira, how='left', on='DOCUMENTO')\n",
    "carteiraDezembro2018 = pd.merge(dezembro2018, superCarteira, how='left', on='DOCUMENTO')\n",
    "\n",
    "# 2019\n",
    "carteiraJaneiro2019 = pd.merge(janeiro2019, superCarteira, how='left', on='DOCUMENTO')\n",
    "carteiraFevereiro2019 = pd.merge(fevereiro2019, superCarteira, how='left', on='DOCUMENTO')\n",
    "carteiraMarco2019 = pd.merge(marco2019, superCarteira, how='left', on='DOCUMENTO')\n",
    "carteiraAbril2019 = pd.merge(abril2019, superCarteira, how='left', on='DOCUMENTO')\n",
    "carteiraMaio2019 = pd.merge(maio2019, superCarteira, how='left', on='DOCUMENTO')\n",
    "carteiraJunho2019 = pd.merge(junho2019, superCarteira, how='left', on='DOCUMENTO')\n",
    "carteiraJulho2019 = pd.merge(julho2019, superCarteira, how='left', on='DOCUMENTO')\n"
   ]
  },
  {
   "cell_type": "code",
   "execution_count": 23,
   "metadata": {},
   "outputs": [
    {
     "data": {
      "text/plain": [
       "(14601, 4)"
      ]
     },
     "execution_count": 23,
     "metadata": {},
     "output_type": "execute_result"
    }
   ],
   "source": [
    "# preenche os registros sem segmentação com NA, para entrar na contagem abaixo\n",
    "\n",
    "# 2018\n",
    "carteiraOutubro2018 = carteiraOutubro2018.fillna('NA')\n",
    "carteiraNovembro2018 = carteiraNovembro2018.fillna('NA')\n",
    "carteiraDezembro2018 = carteiraDezembro2018.fillna('NA')\n",
    "\n",
    "# 2019\n",
    "carteiraJaneiro2019 = carteiraJaneiro2019.fillna('NA')\n",
    "carteiraFevereiro2019 = carteiraFevereiro2019.fillna('NA')\n",
    "carteiraMarco2019 = carteiraMarco2019.fillna('NA')\n",
    "carteiraAbril2019 = carteiraAbril2019.fillna('NA')\n",
    "carteiraMaio2019 = carteiraMaio2019.fillna('NA')\n",
    "carteiraJunho2019 = carteiraJunho2019.fillna('NA')\n",
    "carteiraJulho2019 = carteiraJulho2019.fillna('NA')\n",
    "\n",
    "carteiraDezembro2018.shape"
   ]
  },
  {
   "cell_type": "code",
   "execution_count": 24,
   "metadata": {},
   "outputs": [],
   "source": [
    "# carteira_auxiliar[carteira_auxiliar['DOCUMENTO'] == 'COLOQUE O CNPJ AQUI']"
   ]
  },
  {
   "cell_type": "markdown",
   "metadata": {},
   "source": [
    "## Remoção dos clientes duplicados"
   ]
  },
  {
   "cell_type": "code",
   "execution_count": 25,
   "metadata": {},
   "outputs": [
    {
     "data": {
      "text/plain": [
       "(4277, 4)"
      ]
     },
     "execution_count": 25,
     "metadata": {},
     "output_type": "execute_result"
    }
   ],
   "source": [
    "# 2018\n",
    "carteiraOutubro2018 = carteiraOutubro2018.drop_duplicates(subset='DOCUMENTO', keep='first')\n",
    "carteiraNovembro2018 = carteiraNovembro2018.drop_duplicates(subset='DOCUMENTO', keep='first')\n",
    "carteiraDezembro2018 = carteiraDezembro2018.drop_duplicates(subset='DOCUMENTO', keep='first')\n",
    "\n",
    "\n",
    "# 2019\n",
    "carteiraJaneiro2019 = carteiraJaneiro2019.drop_duplicates(subset='DOCUMENTO', keep='first')\n",
    "carteiraFevereiro2019 = carteiraFevereiro2019.drop_duplicates(subset='DOCUMENTO', keep='first')\n",
    "carteiraMarco2019 = carteiraMarco2019.drop_duplicates(subset='DOCUMENTO', keep='first')\n",
    "carteiraAbril2019 = carteiraAbril2019.drop_duplicates(subset='DOCUMENTO', keep='first')\n",
    "carteiraMaio2019 = carteiraMaio2019.drop_duplicates(subset='DOCUMENTO', keep='first')\n",
    "carteiraJunho2019 = carteiraJunho2019.drop_duplicates(subset='DOCUMENTO', keep='first')\n",
    "carteiraJulho2019 = carteiraJulho2019.drop_duplicates(subset='DOCUMENTO', keep='first')\n",
    "\n",
    "carteiraDezembro2018.shape"
   ]
  },
  {
   "cell_type": "code",
   "execution_count": 26,
   "metadata": {},
   "outputs": [],
   "source": [
    "# carteiraJunho2019[carteiraJunho2019['SEGMENTO_VALOR'] == 'NA']"
   ]
  },
  {
   "cell_type": "markdown",
   "metadata": {},
   "source": [
    "# SEGMENTAÇÃO 2018"
   ]
  },
  {
   "cell_type": "code",
   "execution_count": 27,
   "metadata": {},
   "outputs": [
    {
     "data": {
      "text/html": [
       "<div>\n",
       "<style scoped>\n",
       "    .dataframe tbody tr th:only-of-type {\n",
       "        vertical-align: middle;\n",
       "    }\n",
       "\n",
       "    .dataframe tbody tr th {\n",
       "        vertical-align: top;\n",
       "    }\n",
       "\n",
       "    .dataframe thead th {\n",
       "        text-align: right;\n",
       "    }\n",
       "</style>\n",
       "<table border=\"1\" class=\"dataframe\">\n",
       "  <thead>\n",
       "    <tr style=\"text-align: right;\">\n",
       "      <th></th>\n",
       "      <th>OUT2018</th>\n",
       "    </tr>\n",
       "    <tr>\n",
       "      <th>SEGMENTO_VALOR</th>\n",
       "      <th></th>\n",
       "    </tr>\n",
       "  </thead>\n",
       "  <tbody>\n",
       "    <tr>\n",
       "      <th>NA</th>\n",
       "      <td>7</td>\n",
       "    </tr>\n",
       "    <tr>\n",
       "      <th>Vip 1</th>\n",
       "      <td>35</td>\n",
       "    </tr>\n",
       "    <tr>\n",
       "      <th>Vip 2</th>\n",
       "      <td>7</td>\n",
       "    </tr>\n",
       "    <tr>\n",
       "      <th>Vip 3</th>\n",
       "      <td>1867</td>\n",
       "    </tr>\n",
       "    <tr>\n",
       "      <th>Vip 4</th>\n",
       "      <td>1988</td>\n",
       "    </tr>\n",
       "    <tr>\n",
       "      <th>Vip 5</th>\n",
       "      <td>315</td>\n",
       "    </tr>\n",
       "    <tr>\n",
       "      <th>Vip 6</th>\n",
       "      <td>475</td>\n",
       "    </tr>\n",
       "    <tr>\n",
       "      <th>Vip 7</th>\n",
       "      <td>72</td>\n",
       "    </tr>\n",
       "  </tbody>\n",
       "</table>\n",
       "</div>"
      ],
      "text/plain": [
       "                OUT2018\n",
       "SEGMENTO_VALOR         \n",
       "NA                    7\n",
       "Vip 1                35\n",
       "Vip 2                 7\n",
       "Vip 3              1867\n",
       "Vip 4              1988\n",
       "Vip 5               315\n",
       "Vip 6               475\n",
       "Vip 7                72"
      ]
     },
     "execution_count": 27,
     "metadata": {},
     "output_type": "execute_result"
    }
   ],
   "source": [
    "# quantidade de clientes por segmentação em outubro 2018\n",
    "segOut2018 = carteiraOutubro2018[['SEGMENTO_VALOR', 'DOCUMENTO']].groupby(['SEGMENTO_VALOR']).count() #.plot(kind='bar')\n",
    "# segOut2018.plot(kind='bar', title='Outubro 2018')\n",
    "segOut2018 = segOut2018.rename(columns={\"DOCUMENTO\": \"OUT2018\"})\n",
    "segOut2018\n",
    "# data = data[['DOCUMENTO']]\n",
    "# data = (100. * data / data.sum()).round(2).plot(kind='bar', title='Outubro 2018')"
   ]
  },
  {
   "cell_type": "code",
   "execution_count": 28,
   "metadata": {},
   "outputs": [
    {
     "data": {
      "text/html": [
       "<div>\n",
       "<style scoped>\n",
       "    .dataframe tbody tr th:only-of-type {\n",
       "        vertical-align: middle;\n",
       "    }\n",
       "\n",
       "    .dataframe tbody tr th {\n",
       "        vertical-align: top;\n",
       "    }\n",
       "\n",
       "    .dataframe thead th {\n",
       "        text-align: right;\n",
       "    }\n",
       "</style>\n",
       "<table border=\"1\" class=\"dataframe\">\n",
       "  <thead>\n",
       "    <tr style=\"text-align: right;\">\n",
       "      <th></th>\n",
       "      <th>NOV2018</th>\n",
       "    </tr>\n",
       "    <tr>\n",
       "      <th>SEGMENTO_VALOR</th>\n",
       "      <th></th>\n",
       "    </tr>\n",
       "  </thead>\n",
       "  <tbody>\n",
       "    <tr>\n",
       "      <th>NA</th>\n",
       "      <td>3</td>\n",
       "    </tr>\n",
       "    <tr>\n",
       "      <th>Vip 1</th>\n",
       "      <td>32</td>\n",
       "    </tr>\n",
       "    <tr>\n",
       "      <th>Vip 2</th>\n",
       "      <td>6</td>\n",
       "    </tr>\n",
       "    <tr>\n",
       "      <th>Vip 3</th>\n",
       "      <td>1730</td>\n",
       "    </tr>\n",
       "    <tr>\n",
       "      <th>Vip 4</th>\n",
       "      <td>1864</td>\n",
       "    </tr>\n",
       "    <tr>\n",
       "      <th>Vip 5</th>\n",
       "      <td>293</td>\n",
       "    </tr>\n",
       "    <tr>\n",
       "      <th>Vip 6</th>\n",
       "      <td>421</td>\n",
       "    </tr>\n",
       "    <tr>\n",
       "      <th>Vip 7</th>\n",
       "      <td>67</td>\n",
       "    </tr>\n",
       "  </tbody>\n",
       "</table>\n",
       "</div>"
      ],
      "text/plain": [
       "                NOV2018\n",
       "SEGMENTO_VALOR         \n",
       "NA                    3\n",
       "Vip 1                32\n",
       "Vip 2                 6\n",
       "Vip 3              1730\n",
       "Vip 4              1864\n",
       "Vip 5               293\n",
       "Vip 6               421\n",
       "Vip 7                67"
      ]
     },
     "execution_count": 28,
     "metadata": {},
     "output_type": "execute_result"
    }
   ],
   "source": [
    "# quantidade de clientes por segmentação em novembro 2018\n",
    "segNov2018 = carteiraNovembro2018[['SEGMENTO_VALOR', 'DOCUMENTO']].groupby(['SEGMENTO_VALOR']).count()\n",
    "segNov2018 = segNov2018.rename(columns={\"DOCUMENTO\": \"NOV2018\"})\n",
    "segNov2018"
   ]
  },
  {
   "cell_type": "code",
   "execution_count": 29,
   "metadata": {},
   "outputs": [
    {
     "data": {
      "text/html": [
       "<div>\n",
       "<style scoped>\n",
       "    .dataframe tbody tr th:only-of-type {\n",
       "        vertical-align: middle;\n",
       "    }\n",
       "\n",
       "    .dataframe tbody tr th {\n",
       "        vertical-align: top;\n",
       "    }\n",
       "\n",
       "    .dataframe thead th {\n",
       "        text-align: right;\n",
       "    }\n",
       "</style>\n",
       "<table border=\"1\" class=\"dataframe\">\n",
       "  <thead>\n",
       "    <tr style=\"text-align: right;\">\n",
       "      <th></th>\n",
       "      <th>DEZ2018</th>\n",
       "    </tr>\n",
       "    <tr>\n",
       "      <th>SEGMENTO_VALOR</th>\n",
       "      <th></th>\n",
       "    </tr>\n",
       "  </thead>\n",
       "  <tbody>\n",
       "    <tr>\n",
       "      <th>NA</th>\n",
       "      <td>5</td>\n",
       "    </tr>\n",
       "    <tr>\n",
       "      <th>Vip 1</th>\n",
       "      <td>28</td>\n",
       "    </tr>\n",
       "    <tr>\n",
       "      <th>Vip 2</th>\n",
       "      <td>6</td>\n",
       "    </tr>\n",
       "    <tr>\n",
       "      <th>Vip 3</th>\n",
       "      <td>1662</td>\n",
       "    </tr>\n",
       "    <tr>\n",
       "      <th>Vip 4</th>\n",
       "      <td>1832</td>\n",
       "    </tr>\n",
       "    <tr>\n",
       "      <th>Vip 5</th>\n",
       "      <td>273</td>\n",
       "    </tr>\n",
       "    <tr>\n",
       "      <th>Vip 6</th>\n",
       "      <td>413</td>\n",
       "    </tr>\n",
       "    <tr>\n",
       "      <th>Vip 7</th>\n",
       "      <td>58</td>\n",
       "    </tr>\n",
       "  </tbody>\n",
       "</table>\n",
       "</div>"
      ],
      "text/plain": [
       "                DEZ2018\n",
       "SEGMENTO_VALOR         \n",
       "NA                    5\n",
       "Vip 1                28\n",
       "Vip 2                 6\n",
       "Vip 3              1662\n",
       "Vip 4              1832\n",
       "Vip 5               273\n",
       "Vip 6               413\n",
       "Vip 7                58"
      ]
     },
     "execution_count": 29,
     "metadata": {},
     "output_type": "execute_result"
    }
   ],
   "source": [
    "# quantidade de clientes por segmentação em dezembro 2018\n",
    "segDez2018 = carteiraDezembro2018[['SEGMENTO_VALOR', 'DOCUMENTO']].groupby(['SEGMENTO_VALOR']).count()\n",
    "segDez2018 = segDez2018.rename(columns={\"DOCUMENTO\": \"DEZ2018\"})\n",
    "segDez2018"
   ]
  },
  {
   "cell_type": "markdown",
   "metadata": {},
   "source": [
    "## Consolidado 2018"
   ]
  },
  {
   "cell_type": "code",
   "execution_count": 30,
   "metadata": {},
   "outputs": [
    {
     "data": {
      "text/html": [
       "<div>\n",
       "<style scoped>\n",
       "    .dataframe tbody tr th:only-of-type {\n",
       "        vertical-align: middle;\n",
       "    }\n",
       "\n",
       "    .dataframe tbody tr th {\n",
       "        vertical-align: top;\n",
       "    }\n",
       "\n",
       "    .dataframe thead th {\n",
       "        text-align: right;\n",
       "    }\n",
       "</style>\n",
       "<table border=\"1\" class=\"dataframe\">\n",
       "  <thead>\n",
       "    <tr style=\"text-align: right;\">\n",
       "      <th></th>\n",
       "      <th>OUT2018</th>\n",
       "      <th>NOV2018</th>\n",
       "      <th>DEZ2018</th>\n",
       "    </tr>\n",
       "    <tr>\n",
       "      <th>SEGMENTO_VALOR</th>\n",
       "      <th></th>\n",
       "      <th></th>\n",
       "      <th></th>\n",
       "    </tr>\n",
       "  </thead>\n",
       "  <tbody>\n",
       "    <tr>\n",
       "      <th>NA</th>\n",
       "      <td>7</td>\n",
       "      <td>3</td>\n",
       "      <td>5</td>\n",
       "    </tr>\n",
       "    <tr>\n",
       "      <th>Vip 1</th>\n",
       "      <td>35</td>\n",
       "      <td>32</td>\n",
       "      <td>28</td>\n",
       "    </tr>\n",
       "    <tr>\n",
       "      <th>Vip 2</th>\n",
       "      <td>7</td>\n",
       "      <td>6</td>\n",
       "      <td>6</td>\n",
       "    </tr>\n",
       "    <tr>\n",
       "      <th>Vip 3</th>\n",
       "      <td>1867</td>\n",
       "      <td>1730</td>\n",
       "      <td>1662</td>\n",
       "    </tr>\n",
       "    <tr>\n",
       "      <th>Vip 4</th>\n",
       "      <td>1988</td>\n",
       "      <td>1864</td>\n",
       "      <td>1832</td>\n",
       "    </tr>\n",
       "    <tr>\n",
       "      <th>Vip 5</th>\n",
       "      <td>315</td>\n",
       "      <td>293</td>\n",
       "      <td>273</td>\n",
       "    </tr>\n",
       "    <tr>\n",
       "      <th>Vip 6</th>\n",
       "      <td>475</td>\n",
       "      <td>421</td>\n",
       "      <td>413</td>\n",
       "    </tr>\n",
       "    <tr>\n",
       "      <th>Vip 7</th>\n",
       "      <td>72</td>\n",
       "      <td>67</td>\n",
       "      <td>58</td>\n",
       "    </tr>\n",
       "  </tbody>\n",
       "</table>\n",
       "</div>"
      ],
      "text/plain": [
       "                OUT2018  NOV2018  DEZ2018\n",
       "SEGMENTO_VALOR                           \n",
       "NA                    7        3        5\n",
       "Vip 1                35       32       28\n",
       "Vip 2                 7        6        6\n",
       "Vip 3              1867     1730     1662\n",
       "Vip 4              1988     1864     1832\n",
       "Vip 5               315      293      273\n",
       "Vip 6               475      421      413\n",
       "Vip 7                72       67       58"
      ]
     },
     "execution_count": 30,
     "metadata": {},
     "output_type": "execute_result"
    }
   ],
   "source": [
    "seg2018 = pd.concat([segOut2018, segNov2018, segDez2018], axis=1).reindex(segOut2018.index).fillna(0)\n",
    "# seg2018 = (100. * seg2018 / seg2018.sum()).round(2)\n",
    "seg2018"
   ]
  },
  {
   "cell_type": "markdown",
   "metadata": {},
   "source": [
    "# SEGMENTAÇÃO 2019"
   ]
  },
  {
   "cell_type": "markdown",
   "metadata": {},
   "source": [
    "## SEGMENTAÇÃO DE CLIENTES JANEIRO 2019"
   ]
  },
  {
   "cell_type": "code",
   "execution_count": 31,
   "metadata": {},
   "outputs": [
    {
     "data": {
      "text/html": [
       "<div>\n",
       "<style scoped>\n",
       "    .dataframe tbody tr th:only-of-type {\n",
       "        vertical-align: middle;\n",
       "    }\n",
       "\n",
       "    .dataframe tbody tr th {\n",
       "        vertical-align: top;\n",
       "    }\n",
       "\n",
       "    .dataframe thead th {\n",
       "        text-align: right;\n",
       "    }\n",
       "</style>\n",
       "<table border=\"1\" class=\"dataframe\">\n",
       "  <thead>\n",
       "    <tr style=\"text-align: right;\">\n",
       "      <th></th>\n",
       "      <th>JAN2019</th>\n",
       "    </tr>\n",
       "    <tr>\n",
       "      <th>SEGMENTO_VALOR</th>\n",
       "      <th></th>\n",
       "    </tr>\n",
       "  </thead>\n",
       "  <tbody>\n",
       "    <tr>\n",
       "      <th>NA</th>\n",
       "      <td>6</td>\n",
       "    </tr>\n",
       "    <tr>\n",
       "      <th>Vip 1</th>\n",
       "      <td>34</td>\n",
       "    </tr>\n",
       "    <tr>\n",
       "      <th>Vip 2</th>\n",
       "      <td>6</td>\n",
       "    </tr>\n",
       "    <tr>\n",
       "      <th>Vip 3</th>\n",
       "      <td>1721</td>\n",
       "    </tr>\n",
       "    <tr>\n",
       "      <th>Vip 4</th>\n",
       "      <td>1860</td>\n",
       "    </tr>\n",
       "    <tr>\n",
       "      <th>Vip 5</th>\n",
       "      <td>282</td>\n",
       "    </tr>\n",
       "    <tr>\n",
       "      <th>Vip 6</th>\n",
       "      <td>416</td>\n",
       "    </tr>\n",
       "    <tr>\n",
       "      <th>Vip 7</th>\n",
       "      <td>53</td>\n",
       "    </tr>\n",
       "  </tbody>\n",
       "</table>\n",
       "</div>"
      ],
      "text/plain": [
       "                JAN2019\n",
       "SEGMENTO_VALOR         \n",
       "NA                    6\n",
       "Vip 1                34\n",
       "Vip 2                 6\n",
       "Vip 3              1721\n",
       "Vip 4              1860\n",
       "Vip 5               282\n",
       "Vip 6               416\n",
       "Vip 7                53"
      ]
     },
     "execution_count": 31,
     "metadata": {},
     "output_type": "execute_result"
    }
   ],
   "source": [
    "# quantidade de clientes por segmentação em Janeiro 2019\n",
    "segJan2019 = carteiraJaneiro2019[['SEGMENTO_VALOR', 'DOCUMENTO']].groupby(['SEGMENTO_VALOR']).count()\n",
    "segJan2019 = segJan2019.rename(columns={\"DOCUMENTO\": \"JAN2019\"})\n",
    "segJan2019"
   ]
  },
  {
   "cell_type": "markdown",
   "metadata": {},
   "source": [
    "## SEGMENTAÇÃO DE CLIENTES FEVEREIRO 2019"
   ]
  },
  {
   "cell_type": "code",
   "execution_count": 32,
   "metadata": {},
   "outputs": [
    {
     "data": {
      "text/html": [
       "<div>\n",
       "<style scoped>\n",
       "    .dataframe tbody tr th:only-of-type {\n",
       "        vertical-align: middle;\n",
       "    }\n",
       "\n",
       "    .dataframe tbody tr th {\n",
       "        vertical-align: top;\n",
       "    }\n",
       "\n",
       "    .dataframe thead th {\n",
       "        text-align: right;\n",
       "    }\n",
       "</style>\n",
       "<table border=\"1\" class=\"dataframe\">\n",
       "  <thead>\n",
       "    <tr style=\"text-align: right;\">\n",
       "      <th></th>\n",
       "      <th>FEV2019</th>\n",
       "    </tr>\n",
       "    <tr>\n",
       "      <th>SEGMENTO_VALOR</th>\n",
       "      <th></th>\n",
       "    </tr>\n",
       "  </thead>\n",
       "  <tbody>\n",
       "    <tr>\n",
       "      <th>Vip 1</th>\n",
       "      <td>33</td>\n",
       "    </tr>\n",
       "    <tr>\n",
       "      <th>Vip 2</th>\n",
       "      <td>8</td>\n",
       "    </tr>\n",
       "    <tr>\n",
       "      <th>Vip 3</th>\n",
       "      <td>2008</td>\n",
       "    </tr>\n",
       "    <tr>\n",
       "      <th>Vip 4</th>\n",
       "      <td>1962</td>\n",
       "    </tr>\n",
       "    <tr>\n",
       "      <th>Vip 5</th>\n",
       "      <td>201</td>\n",
       "    </tr>\n",
       "    <tr>\n",
       "      <th>Vip 6</th>\n",
       "      <td>392</td>\n",
       "    </tr>\n",
       "    <tr>\n",
       "      <th>Vip 7</th>\n",
       "      <td>30</td>\n",
       "    </tr>\n",
       "  </tbody>\n",
       "</table>\n",
       "</div>"
      ],
      "text/plain": [
       "                FEV2019\n",
       "SEGMENTO_VALOR         \n",
       "Vip 1                33\n",
       "Vip 2                 8\n",
       "Vip 3              2008\n",
       "Vip 4              1962\n",
       "Vip 5               201\n",
       "Vip 6               392\n",
       "Vip 7                30"
      ]
     },
     "execution_count": 32,
     "metadata": {},
     "output_type": "execute_result"
    }
   ],
   "source": [
    "# quantidade de clientes por segmentação em Fevereiro 2019\n",
    "segFev2019 = carteiraFevereiro2019[['SEGMENTO_VALOR', 'DOCUMENTO']].groupby(['SEGMENTO_VALOR']).count()\n",
    "segFev2019 = segFev2019.rename(columns={\"DOCUMENTO\": \"FEV2019\"})\n",
    "segFev2019"
   ]
  },
  {
   "cell_type": "markdown",
   "metadata": {},
   "source": [
    "## SEGMENTAÇÃO DE CLIENTES MARÇO 2019"
   ]
  },
  {
   "cell_type": "code",
   "execution_count": 33,
   "metadata": {},
   "outputs": [
    {
     "data": {
      "text/html": [
       "<div>\n",
       "<style scoped>\n",
       "    .dataframe tbody tr th:only-of-type {\n",
       "        vertical-align: middle;\n",
       "    }\n",
       "\n",
       "    .dataframe tbody tr th {\n",
       "        vertical-align: top;\n",
       "    }\n",
       "\n",
       "    .dataframe thead th {\n",
       "        text-align: right;\n",
       "    }\n",
       "</style>\n",
       "<table border=\"1\" class=\"dataframe\">\n",
       "  <thead>\n",
       "    <tr style=\"text-align: right;\">\n",
       "      <th></th>\n",
       "      <th>MAR2018</th>\n",
       "    </tr>\n",
       "    <tr>\n",
       "      <th>SEGMENTO_VALOR</th>\n",
       "      <th></th>\n",
       "    </tr>\n",
       "  </thead>\n",
       "  <tbody>\n",
       "    <tr>\n",
       "      <th>Vip 1</th>\n",
       "      <td>16</td>\n",
       "    </tr>\n",
       "    <tr>\n",
       "      <th>Vip 2</th>\n",
       "      <td>3</td>\n",
       "    </tr>\n",
       "    <tr>\n",
       "      <th>Vip 3</th>\n",
       "      <td>856</td>\n",
       "    </tr>\n",
       "    <tr>\n",
       "      <th>Vip 4</th>\n",
       "      <td>914</td>\n",
       "    </tr>\n",
       "    <tr>\n",
       "      <th>Vip 5</th>\n",
       "      <td>97</td>\n",
       "    </tr>\n",
       "    <tr>\n",
       "      <th>Vip 6</th>\n",
       "      <td>149</td>\n",
       "    </tr>\n",
       "    <tr>\n",
       "      <th>Vip 7</th>\n",
       "      <td>24</td>\n",
       "    </tr>\n",
       "  </tbody>\n",
       "</table>\n",
       "</div>"
      ],
      "text/plain": [
       "                MAR2018\n",
       "SEGMENTO_VALOR         \n",
       "Vip 1                16\n",
       "Vip 2                 3\n",
       "Vip 3               856\n",
       "Vip 4               914\n",
       "Vip 5                97\n",
       "Vip 6               149\n",
       "Vip 7                24"
      ]
     },
     "execution_count": 33,
     "metadata": {},
     "output_type": "execute_result"
    }
   ],
   "source": [
    "# quantidade de clientes por segmentação em Março 2019\n",
    "segMar2019 = carteiraMarco2019[['SEGMENTO_VALOR', 'DOCUMENTO']].groupby(['SEGMENTO_VALOR']).count()\n",
    "segMar2019 = segMar2019.rename(columns={\"DOCUMENTO\": \"MAR2018\"})\n",
    "segMar2019"
   ]
  },
  {
   "cell_type": "markdown",
   "metadata": {},
   "source": [
    "## SEGMENTAÇÃO DE CLIENTES ABRIL 2019"
   ]
  },
  {
   "cell_type": "code",
   "execution_count": 34,
   "metadata": {},
   "outputs": [
    {
     "data": {
      "text/html": [
       "<div>\n",
       "<style scoped>\n",
       "    .dataframe tbody tr th:only-of-type {\n",
       "        vertical-align: middle;\n",
       "    }\n",
       "\n",
       "    .dataframe tbody tr th {\n",
       "        vertical-align: top;\n",
       "    }\n",
       "\n",
       "    .dataframe thead th {\n",
       "        text-align: right;\n",
       "    }\n",
       "</style>\n",
       "<table border=\"1\" class=\"dataframe\">\n",
       "  <thead>\n",
       "    <tr style=\"text-align: right;\">\n",
       "      <th></th>\n",
       "      <th>ABR2019</th>\n",
       "    </tr>\n",
       "    <tr>\n",
       "      <th>SEGMENTO_VALOR</th>\n",
       "      <th></th>\n",
       "    </tr>\n",
       "  </thead>\n",
       "  <tbody>\n",
       "    <tr>\n",
       "      <th>Vip 1</th>\n",
       "      <td>15</td>\n",
       "    </tr>\n",
       "    <tr>\n",
       "      <th>Vip 2</th>\n",
       "      <td>2</td>\n",
       "    </tr>\n",
       "    <tr>\n",
       "      <th>Vip 3</th>\n",
       "      <td>880</td>\n",
       "    </tr>\n",
       "    <tr>\n",
       "      <th>Vip 4</th>\n",
       "      <td>1022</td>\n",
       "    </tr>\n",
       "    <tr>\n",
       "      <th>Vip 5</th>\n",
       "      <td>104</td>\n",
       "    </tr>\n",
       "    <tr>\n",
       "      <th>Vip 6</th>\n",
       "      <td>164</td>\n",
       "    </tr>\n",
       "    <tr>\n",
       "      <th>Vip 7</th>\n",
       "      <td>34</td>\n",
       "    </tr>\n",
       "  </tbody>\n",
       "</table>\n",
       "</div>"
      ],
      "text/plain": [
       "                ABR2019\n",
       "SEGMENTO_VALOR         \n",
       "Vip 1                15\n",
       "Vip 2                 2\n",
       "Vip 3               880\n",
       "Vip 4              1022\n",
       "Vip 5               104\n",
       "Vip 6               164\n",
       "Vip 7                34"
      ]
     },
     "execution_count": 34,
     "metadata": {},
     "output_type": "execute_result"
    }
   ],
   "source": [
    "segAbr2019 = carteiraAbril2019[['SEGMENTO_VALOR', 'DOCUMENTO']].groupby(['SEGMENTO_VALOR']).count()\n",
    "segAbr2019 = segAbr2019.rename(columns={\"DOCUMENTO\": \"ABR2019\"})\n",
    "segAbr2019"
   ]
  },
  {
   "cell_type": "markdown",
   "metadata": {},
   "source": [
    "## SEGMENTAÇÃO DE CLIENTES MAIO 2019"
   ]
  },
  {
   "cell_type": "code",
   "execution_count": 35,
   "metadata": {},
   "outputs": [
    {
     "data": {
      "text/html": [
       "<div>\n",
       "<style scoped>\n",
       "    .dataframe tbody tr th:only-of-type {\n",
       "        vertical-align: middle;\n",
       "    }\n",
       "\n",
       "    .dataframe tbody tr th {\n",
       "        vertical-align: top;\n",
       "    }\n",
       "\n",
       "    .dataframe thead th {\n",
       "        text-align: right;\n",
       "    }\n",
       "</style>\n",
       "<table border=\"1\" class=\"dataframe\">\n",
       "  <thead>\n",
       "    <tr style=\"text-align: right;\">\n",
       "      <th></th>\n",
       "      <th>MAI2019</th>\n",
       "    </tr>\n",
       "    <tr>\n",
       "      <th>SEGMENTO_VALOR</th>\n",
       "      <th></th>\n",
       "    </tr>\n",
       "  </thead>\n",
       "  <tbody>\n",
       "    <tr>\n",
       "      <th>NA</th>\n",
       "      <td>8</td>\n",
       "    </tr>\n",
       "    <tr>\n",
       "      <th>Vip 1</th>\n",
       "      <td>19</td>\n",
       "    </tr>\n",
       "    <tr>\n",
       "      <th>Vip 2</th>\n",
       "      <td>5</td>\n",
       "    </tr>\n",
       "    <tr>\n",
       "      <th>Vip 3</th>\n",
       "      <td>1038</td>\n",
       "    </tr>\n",
       "    <tr>\n",
       "      <th>Vip 4</th>\n",
       "      <td>1085</td>\n",
       "    </tr>\n",
       "    <tr>\n",
       "      <th>Vip 5</th>\n",
       "      <td>126</td>\n",
       "    </tr>\n",
       "    <tr>\n",
       "      <th>Vip 6</th>\n",
       "      <td>178</td>\n",
       "    </tr>\n",
       "    <tr>\n",
       "      <th>Vip 7</th>\n",
       "      <td>30</td>\n",
       "    </tr>\n",
       "  </tbody>\n",
       "</table>\n",
       "</div>"
      ],
      "text/plain": [
       "                MAI2019\n",
       "SEGMENTO_VALOR         \n",
       "NA                    8\n",
       "Vip 1                19\n",
       "Vip 2                 5\n",
       "Vip 3              1038\n",
       "Vip 4              1085\n",
       "Vip 5               126\n",
       "Vip 6               178\n",
       "Vip 7                30"
      ]
     },
     "execution_count": 35,
     "metadata": {},
     "output_type": "execute_result"
    }
   ],
   "source": [
    "segMai2019 = carteiraMaio2019[['SEGMENTO_VALOR', 'DOCUMENTO']].groupby(['SEGMENTO_VALOR']).count()\n",
    "segMai2019 = segMai2019.rename(columns={\"DOCUMENTO\": \"MAI2019\"})\n",
    "segMai2019"
   ]
  },
  {
   "cell_type": "markdown",
   "metadata": {},
   "source": [
    "## SEGMENTAÇÃO DE CLIENTES JUNHO 2019\n"
   ]
  },
  {
   "cell_type": "code",
   "execution_count": 36,
   "metadata": {},
   "outputs": [
    {
     "data": {
      "text/html": [
       "<div>\n",
       "<style scoped>\n",
       "    .dataframe tbody tr th:only-of-type {\n",
       "        vertical-align: middle;\n",
       "    }\n",
       "\n",
       "    .dataframe tbody tr th {\n",
       "        vertical-align: top;\n",
       "    }\n",
       "\n",
       "    .dataframe thead th {\n",
       "        text-align: right;\n",
       "    }\n",
       "</style>\n",
       "<table border=\"1\" class=\"dataframe\">\n",
       "  <thead>\n",
       "    <tr style=\"text-align: right;\">\n",
       "      <th></th>\n",
       "      <th>JUN2019</th>\n",
       "    </tr>\n",
       "    <tr>\n",
       "      <th>SEGMENTO_VALOR</th>\n",
       "      <th></th>\n",
       "    </tr>\n",
       "  </thead>\n",
       "  <tbody>\n",
       "    <tr>\n",
       "      <th>NA</th>\n",
       "      <td>76</td>\n",
       "    </tr>\n",
       "    <tr>\n",
       "      <th>Vip 1</th>\n",
       "      <td>24</td>\n",
       "    </tr>\n",
       "    <tr>\n",
       "      <th>Vip 2</th>\n",
       "      <td>30</td>\n",
       "    </tr>\n",
       "    <tr>\n",
       "      <th>Vip 3</th>\n",
       "      <td>964</td>\n",
       "    </tr>\n",
       "    <tr>\n",
       "      <th>Vip 4</th>\n",
       "      <td>912</td>\n",
       "    </tr>\n",
       "    <tr>\n",
       "      <th>Vip 5</th>\n",
       "      <td>123</td>\n",
       "    </tr>\n",
       "    <tr>\n",
       "      <th>Vip 6</th>\n",
       "      <td>181</td>\n",
       "    </tr>\n",
       "    <tr>\n",
       "      <th>Vip 7</th>\n",
       "      <td>42</td>\n",
       "    </tr>\n",
       "  </tbody>\n",
       "</table>\n",
       "</div>"
      ],
      "text/plain": [
       "                JUN2019\n",
       "SEGMENTO_VALOR         \n",
       "NA                   76\n",
       "Vip 1                24\n",
       "Vip 2                30\n",
       "Vip 3               964\n",
       "Vip 4               912\n",
       "Vip 5               123\n",
       "Vip 6               181\n",
       "Vip 7                42"
      ]
     },
     "execution_count": 36,
     "metadata": {},
     "output_type": "execute_result"
    }
   ],
   "source": [
    "segJun2019 = carteiraJunho2019[['SEGMENTO_VALOR', 'DOCUMENTO']].groupby(['SEGMENTO_VALOR']).count()\n",
    "segJun2019 = segJun2019.rename(columns={\"DOCUMENTO\": \"JUN2019\"})\n",
    "segJun2019"
   ]
  },
  {
   "cell_type": "markdown",
   "metadata": {},
   "source": [
    "## SEGMENTAÇÃO DE CLIENTES JULHO 2019\n"
   ]
  },
  {
   "cell_type": "code",
   "execution_count": 37,
   "metadata": {},
   "outputs": [
    {
     "data": {
      "text/html": [
       "<div>\n",
       "<style scoped>\n",
       "    .dataframe tbody tr th:only-of-type {\n",
       "        vertical-align: middle;\n",
       "    }\n",
       "\n",
       "    .dataframe tbody tr th {\n",
       "        vertical-align: top;\n",
       "    }\n",
       "\n",
       "    .dataframe thead th {\n",
       "        text-align: right;\n",
       "    }\n",
       "</style>\n",
       "<table border=\"1\" class=\"dataframe\">\n",
       "  <thead>\n",
       "    <tr style=\"text-align: right;\">\n",
       "      <th></th>\n",
       "      <th>JUL2019</th>\n",
       "    </tr>\n",
       "    <tr>\n",
       "      <th>SEGMENTO_VALOR</th>\n",
       "      <th></th>\n",
       "    </tr>\n",
       "  </thead>\n",
       "  <tbody>\n",
       "    <tr>\n",
       "      <th>NA</th>\n",
       "      <td>34</td>\n",
       "    </tr>\n",
       "    <tr>\n",
       "      <th>Vip 1</th>\n",
       "      <td>8</td>\n",
       "    </tr>\n",
       "    <tr>\n",
       "      <th>Vip 2</th>\n",
       "      <td>12</td>\n",
       "    </tr>\n",
       "    <tr>\n",
       "      <th>Vip 3</th>\n",
       "      <td>852</td>\n",
       "    </tr>\n",
       "    <tr>\n",
       "      <th>Vip 4</th>\n",
       "      <td>860</td>\n",
       "    </tr>\n",
       "    <tr>\n",
       "      <th>Vip 5</th>\n",
       "      <td>113</td>\n",
       "    </tr>\n",
       "    <tr>\n",
       "      <th>Vip 6</th>\n",
       "      <td>186</td>\n",
       "    </tr>\n",
       "    <tr>\n",
       "      <th>Vip 7</th>\n",
       "      <td>28</td>\n",
       "    </tr>\n",
       "  </tbody>\n",
       "</table>\n",
       "</div>"
      ],
      "text/plain": [
       "                JUL2019\n",
       "SEGMENTO_VALOR         \n",
       "NA                   34\n",
       "Vip 1                 8\n",
       "Vip 2                12\n",
       "Vip 3               852\n",
       "Vip 4               860\n",
       "Vip 5               113\n",
       "Vip 6               186\n",
       "Vip 7                28"
      ]
     },
     "execution_count": 37,
     "metadata": {},
     "output_type": "execute_result"
    }
   ],
   "source": [
    "segJul2019 = carteiraJulho2019[['SEGMENTO_VALOR', 'DOCUMENTO']].groupby(['SEGMENTO_VALOR']).count()\n",
    "segJul2019 = segJul2019.rename(columns={\"DOCUMENTO\": \"JUL2019\"})\n",
    "segJul2019"
   ]
  },
  {
   "cell_type": "markdown",
   "metadata": {},
   "source": [
    "## Consolidado 2019"
   ]
  },
  {
   "cell_type": "code",
   "execution_count": 38,
   "metadata": {},
   "outputs": [
    {
     "data": {
      "text/html": [
       "<div>\n",
       "<style scoped>\n",
       "    .dataframe tbody tr th:only-of-type {\n",
       "        vertical-align: middle;\n",
       "    }\n",
       "\n",
       "    .dataframe tbody tr th {\n",
       "        vertical-align: top;\n",
       "    }\n",
       "\n",
       "    .dataframe thead th {\n",
       "        text-align: right;\n",
       "    }\n",
       "</style>\n",
       "<table border=\"1\" class=\"dataframe\">\n",
       "  <thead>\n",
       "    <tr style=\"text-align: right;\">\n",
       "      <th></th>\n",
       "      <th>JAN2019</th>\n",
       "      <th>FEV2019</th>\n",
       "      <th>MAR2018</th>\n",
       "      <th>ABR2019</th>\n",
       "      <th>MAI2019</th>\n",
       "      <th>JUN2019</th>\n",
       "      <th>JUL2019</th>\n",
       "    </tr>\n",
       "    <tr>\n",
       "      <th>SEGMENTO_VALOR</th>\n",
       "      <th></th>\n",
       "      <th></th>\n",
       "      <th></th>\n",
       "      <th></th>\n",
       "      <th></th>\n",
       "      <th></th>\n",
       "      <th></th>\n",
       "    </tr>\n",
       "  </thead>\n",
       "  <tbody>\n",
       "    <tr>\n",
       "      <th>NA</th>\n",
       "      <td>6</td>\n",
       "      <td>0.0</td>\n",
       "      <td>0.0</td>\n",
       "      <td>0.0</td>\n",
       "      <td>8</td>\n",
       "      <td>76</td>\n",
       "      <td>34</td>\n",
       "    </tr>\n",
       "    <tr>\n",
       "      <th>Vip 1</th>\n",
       "      <td>34</td>\n",
       "      <td>33.0</td>\n",
       "      <td>16.0</td>\n",
       "      <td>15.0</td>\n",
       "      <td>19</td>\n",
       "      <td>24</td>\n",
       "      <td>8</td>\n",
       "    </tr>\n",
       "    <tr>\n",
       "      <th>Vip 2</th>\n",
       "      <td>6</td>\n",
       "      <td>8.0</td>\n",
       "      <td>3.0</td>\n",
       "      <td>2.0</td>\n",
       "      <td>5</td>\n",
       "      <td>30</td>\n",
       "      <td>12</td>\n",
       "    </tr>\n",
       "    <tr>\n",
       "      <th>Vip 3</th>\n",
       "      <td>1721</td>\n",
       "      <td>2008.0</td>\n",
       "      <td>856.0</td>\n",
       "      <td>880.0</td>\n",
       "      <td>1038</td>\n",
       "      <td>964</td>\n",
       "      <td>852</td>\n",
       "    </tr>\n",
       "    <tr>\n",
       "      <th>Vip 4</th>\n",
       "      <td>1860</td>\n",
       "      <td>1962.0</td>\n",
       "      <td>914.0</td>\n",
       "      <td>1022.0</td>\n",
       "      <td>1085</td>\n",
       "      <td>912</td>\n",
       "      <td>860</td>\n",
       "    </tr>\n",
       "    <tr>\n",
       "      <th>Vip 5</th>\n",
       "      <td>282</td>\n",
       "      <td>201.0</td>\n",
       "      <td>97.0</td>\n",
       "      <td>104.0</td>\n",
       "      <td>126</td>\n",
       "      <td>123</td>\n",
       "      <td>113</td>\n",
       "    </tr>\n",
       "    <tr>\n",
       "      <th>Vip 6</th>\n",
       "      <td>416</td>\n",
       "      <td>392.0</td>\n",
       "      <td>149.0</td>\n",
       "      <td>164.0</td>\n",
       "      <td>178</td>\n",
       "      <td>181</td>\n",
       "      <td>186</td>\n",
       "    </tr>\n",
       "    <tr>\n",
       "      <th>Vip 7</th>\n",
       "      <td>53</td>\n",
       "      <td>30.0</td>\n",
       "      <td>24.0</td>\n",
       "      <td>34.0</td>\n",
       "      <td>30</td>\n",
       "      <td>42</td>\n",
       "      <td>28</td>\n",
       "    </tr>\n",
       "  </tbody>\n",
       "</table>\n",
       "</div>"
      ],
      "text/plain": [
       "                JAN2019  FEV2019  MAR2018  ABR2019  MAI2019  JUN2019  JUL2019\n",
       "SEGMENTO_VALOR                                                               \n",
       "NA                    6      0.0      0.0      0.0        8       76       34\n",
       "Vip 1                34     33.0     16.0     15.0       19       24        8\n",
       "Vip 2                 6      8.0      3.0      2.0        5       30       12\n",
       "Vip 3              1721   2008.0    856.0    880.0     1038      964      852\n",
       "Vip 4              1860   1962.0    914.0   1022.0     1085      912      860\n",
       "Vip 5               282    201.0     97.0    104.0      126      123      113\n",
       "Vip 6               416    392.0    149.0    164.0      178      181      186\n",
       "Vip 7                53     30.0     24.0     34.0       30       42       28"
      ]
     },
     "execution_count": 38,
     "metadata": {},
     "output_type": "execute_result"
    }
   ],
   "source": [
    "seg2019 = pd.concat([segJan2019, \\\n",
    "                     segFev2019, \\\n",
    "                     segMar2019, \\\n",
    "                     segAbr2019, \\\n",
    "                     segMai2019, \\\n",
    "                     segJun2019, \\\n",
    "                     segJul2019 \\\n",
    "                    ], axis=1).reindex(segJan2019.index).fillna(0)\n",
    "\n",
    "# seg2019 = (100. * seg2019 / seg2019.sum()).round(2)\n",
    "seg2019"
   ]
  },
  {
   "cell_type": "markdown",
   "metadata": {},
   "source": [
    "# GERANDO OS RESULTADOS"
   ]
  },
  {
   "cell_type": "code",
   "execution_count": 39,
   "metadata": {},
   "outputs": [
    {
     "data": {
      "text/html": [
       "<div>\n",
       "<style scoped>\n",
       "    .dataframe tbody tr th:only-of-type {\n",
       "        vertical-align: middle;\n",
       "    }\n",
       "\n",
       "    .dataframe tbody tr th {\n",
       "        vertical-align: top;\n",
       "    }\n",
       "\n",
       "    .dataframe thead th {\n",
       "        text-align: right;\n",
       "    }\n",
       "</style>\n",
       "<table border=\"1\" class=\"dataframe\">\n",
       "  <thead>\n",
       "    <tr style=\"text-align: right;\">\n",
       "      <th></th>\n",
       "      <th>OUT2018</th>\n",
       "      <th>NOV2018</th>\n",
       "      <th>DEZ2018</th>\n",
       "    </tr>\n",
       "    <tr>\n",
       "      <th>SEGMENTO_VALOR</th>\n",
       "      <th></th>\n",
       "      <th></th>\n",
       "      <th></th>\n",
       "    </tr>\n",
       "  </thead>\n",
       "  <tbody>\n",
       "    <tr>\n",
       "      <th>NA</th>\n",
       "      <td>0.001469</td>\n",
       "      <td>0.000679</td>\n",
       "      <td>0.001169</td>\n",
       "    </tr>\n",
       "    <tr>\n",
       "      <th>Vip 1</th>\n",
       "      <td>0.007344</td>\n",
       "      <td>0.007246</td>\n",
       "      <td>0.006547</td>\n",
       "    </tr>\n",
       "    <tr>\n",
       "      <th>Vip 2</th>\n",
       "      <td>0.001469</td>\n",
       "      <td>0.001359</td>\n",
       "      <td>0.001403</td>\n",
       "    </tr>\n",
       "    <tr>\n",
       "      <th>Vip 3</th>\n",
       "      <td>0.391733</td>\n",
       "      <td>0.391757</td>\n",
       "      <td>0.388590</td>\n",
       "    </tr>\n",
       "    <tr>\n",
       "      <th>Vip 4</th>\n",
       "      <td>0.417121</td>\n",
       "      <td>0.422101</td>\n",
       "      <td>0.428338</td>\n",
       "    </tr>\n",
       "    <tr>\n",
       "      <th>Vip 5</th>\n",
       "      <td>0.066093</td>\n",
       "      <td>0.066350</td>\n",
       "      <td>0.063830</td>\n",
       "    </tr>\n",
       "    <tr>\n",
       "      <th>Vip 6</th>\n",
       "      <td>0.099664</td>\n",
       "      <td>0.095335</td>\n",
       "      <td>0.096563</td>\n",
       "    </tr>\n",
       "    <tr>\n",
       "      <th>Vip 7</th>\n",
       "      <td>0.015107</td>\n",
       "      <td>0.015172</td>\n",
       "      <td>0.013561</td>\n",
       "    </tr>\n",
       "  </tbody>\n",
       "</table>\n",
       "</div>"
      ],
      "text/plain": [
       "                 OUT2018   NOV2018   DEZ2018\n",
       "SEGMENTO_VALOR                              \n",
       "NA              0.001469  0.000679  0.001169\n",
       "Vip 1           0.007344  0.007246  0.006547\n",
       "Vip 2           0.001469  0.001359  0.001403\n",
       "Vip 3           0.391733  0.391757  0.388590\n",
       "Vip 4           0.417121  0.422101  0.428338\n",
       "Vip 5           0.066093  0.066350  0.063830\n",
       "Vip 6           0.099664  0.095335  0.096563\n",
       "Vip 7           0.015107  0.015172  0.013561"
      ]
     },
     "execution_count": 39,
     "metadata": {},
     "output_type": "execute_result"
    }
   ],
   "source": [
    "seg2018 = (seg2018 / seg2018.sum())\n",
    "seg2018"
   ]
  },
  {
   "cell_type": "code",
   "execution_count": 40,
   "metadata": {},
   "outputs": [
    {
     "data": {
      "text/html": [
       "<div>\n",
       "<style scoped>\n",
       "    .dataframe tbody tr th:only-of-type {\n",
       "        vertical-align: middle;\n",
       "    }\n",
       "\n",
       "    .dataframe tbody tr th {\n",
       "        vertical-align: top;\n",
       "    }\n",
       "\n",
       "    .dataframe thead th {\n",
       "        text-align: right;\n",
       "    }\n",
       "</style>\n",
       "<table border=\"1\" class=\"dataframe\">\n",
       "  <thead>\n",
       "    <tr style=\"text-align: right;\">\n",
       "      <th></th>\n",
       "      <th>JAN2019</th>\n",
       "      <th>FEV2019</th>\n",
       "      <th>MAR2018</th>\n",
       "      <th>ABR2019</th>\n",
       "      <th>MAI2019</th>\n",
       "      <th>JUN2019</th>\n",
       "      <th>JUL2019</th>\n",
       "    </tr>\n",
       "    <tr>\n",
       "      <th>SEGMENTO_VALOR</th>\n",
       "      <th></th>\n",
       "      <th></th>\n",
       "      <th></th>\n",
       "      <th></th>\n",
       "      <th></th>\n",
       "      <th></th>\n",
       "      <th></th>\n",
       "    </tr>\n",
       "  </thead>\n",
       "  <tbody>\n",
       "    <tr>\n",
       "      <th>NA</th>\n",
       "      <td>0.001370</td>\n",
       "      <td>0.000000</td>\n",
       "      <td>0.000000</td>\n",
       "      <td>0.000000</td>\n",
       "      <td>0.003214</td>\n",
       "      <td>0.032313</td>\n",
       "      <td>0.016245</td>\n",
       "    </tr>\n",
       "    <tr>\n",
       "      <th>Vip 1</th>\n",
       "      <td>0.007766</td>\n",
       "      <td>0.007121</td>\n",
       "      <td>0.007771</td>\n",
       "      <td>0.006754</td>\n",
       "      <td>0.007634</td>\n",
       "      <td>0.010204</td>\n",
       "      <td>0.003822</td>\n",
       "    </tr>\n",
       "    <tr>\n",
       "      <th>Vip 2</th>\n",
       "      <td>0.001370</td>\n",
       "      <td>0.001726</td>\n",
       "      <td>0.001457</td>\n",
       "      <td>0.000900</td>\n",
       "      <td>0.002009</td>\n",
       "      <td>0.012755</td>\n",
       "      <td>0.005733</td>\n",
       "    </tr>\n",
       "    <tr>\n",
       "      <th>Vip 3</th>\n",
       "      <td>0.393102</td>\n",
       "      <td>0.433319</td>\n",
       "      <td>0.415736</td>\n",
       "      <td>0.396218</td>\n",
       "      <td>0.417035</td>\n",
       "      <td>0.409864</td>\n",
       "      <td>0.407071</td>\n",
       "    </tr>\n",
       "    <tr>\n",
       "      <th>Vip 4</th>\n",
       "      <td>0.424852</td>\n",
       "      <td>0.423392</td>\n",
       "      <td>0.443905</td>\n",
       "      <td>0.460153</td>\n",
       "      <td>0.435918</td>\n",
       "      <td>0.387755</td>\n",
       "      <td>0.410893</td>\n",
       "    </tr>\n",
       "    <tr>\n",
       "      <th>Vip 5</th>\n",
       "      <td>0.064413</td>\n",
       "      <td>0.043375</td>\n",
       "      <td>0.047110</td>\n",
       "      <td>0.046826</td>\n",
       "      <td>0.050623</td>\n",
       "      <td>0.052296</td>\n",
       "      <td>0.053989</td>\n",
       "    </tr>\n",
       "    <tr>\n",
       "      <th>Vip 6</th>\n",
       "      <td>0.095021</td>\n",
       "      <td>0.084592</td>\n",
       "      <td>0.072365</td>\n",
       "      <td>0.073841</td>\n",
       "      <td>0.071515</td>\n",
       "      <td>0.076956</td>\n",
       "      <td>0.088868</td>\n",
       "    </tr>\n",
       "    <tr>\n",
       "      <th>Vip 7</th>\n",
       "      <td>0.012106</td>\n",
       "      <td>0.006474</td>\n",
       "      <td>0.011656</td>\n",
       "      <td>0.015308</td>\n",
       "      <td>0.012053</td>\n",
       "      <td>0.017857</td>\n",
       "      <td>0.013378</td>\n",
       "    </tr>\n",
       "  </tbody>\n",
       "</table>\n",
       "</div>"
      ],
      "text/plain": [
       "                 JAN2019   FEV2019   MAR2018   ABR2019   MAI2019   JUN2019  \\\n",
       "SEGMENTO_VALOR                                                               \n",
       "NA              0.001370  0.000000  0.000000  0.000000  0.003214  0.032313   \n",
       "Vip 1           0.007766  0.007121  0.007771  0.006754  0.007634  0.010204   \n",
       "Vip 2           0.001370  0.001726  0.001457  0.000900  0.002009  0.012755   \n",
       "Vip 3           0.393102  0.433319  0.415736  0.396218  0.417035  0.409864   \n",
       "Vip 4           0.424852  0.423392  0.443905  0.460153  0.435918  0.387755   \n",
       "Vip 5           0.064413  0.043375  0.047110  0.046826  0.050623  0.052296   \n",
       "Vip 6           0.095021  0.084592  0.072365  0.073841  0.071515  0.076956   \n",
       "Vip 7           0.012106  0.006474  0.011656  0.015308  0.012053  0.017857   \n",
       "\n",
       "                 JUL2019  \n",
       "SEGMENTO_VALOR            \n",
       "NA              0.016245  \n",
       "Vip 1           0.003822  \n",
       "Vip 2           0.005733  \n",
       "Vip 3           0.407071  \n",
       "Vip 4           0.410893  \n",
       "Vip 5           0.053989  \n",
       "Vip 6           0.088868  \n",
       "Vip 7           0.013378  "
      ]
     },
     "execution_count": 40,
     "metadata": {},
     "output_type": "execute_result"
    }
   ],
   "source": [
    "seg2019 = (seg2019 / seg2019.sum())\n",
    "seg2019"
   ]
  },
  {
   "cell_type": "code",
   "execution_count": 41,
   "metadata": {},
   "outputs": [],
   "source": [
    "with pd.ExcelWriter('resultPortabilidade.xlsx') as writer:\n",
    "    seg2018.to_excel(writer, sheet_name='2018')\n",
    "    seg2019.to_excel(writer, sheet_name='2019')\n",
    "    "
   ]
  },
  {
   "cell_type": "markdown",
   "metadata": {},
   "source": [
    "# Empresas não encontradas"
   ]
  },
  {
   "cell_type": "markdown",
   "metadata": {},
   "source": [
    "## 2018"
   ]
  },
  {
   "cell_type": "code",
   "execution_count": 42,
   "metadata": {},
   "outputs": [],
   "source": [
    "naOut2018 = carteiraOutubro2018[carteiraOutubro2018['SEGMENTO_VALOR'] == 'NA']\n",
    "# naOut2018"
   ]
  },
  {
   "cell_type": "code",
   "execution_count": 43,
   "metadata": {},
   "outputs": [],
   "source": [
    "naNov2018 = carteiraNovembro2018[carteiraNovembro2018['SEGMENTO_VALOR'] == 'NA']\n",
    "# naNov2018"
   ]
  },
  {
   "cell_type": "code",
   "execution_count": 44,
   "metadata": {},
   "outputs": [],
   "source": [
    "naDez2018 = carteiraDezembro2018[carteiraDezembro2018['SEGMENTO_VALOR'] == 'NA']\n",
    "# naDez2018"
   ]
  },
  {
   "cell_type": "code",
   "execution_count": 45,
   "metadata": {},
   "outputs": [],
   "source": [
    "df2018 = [naOut2018, naNov2018, naDez2018]"
   ]
  },
  {
   "cell_type": "code",
   "execution_count": 46,
   "metadata": {},
   "outputs": [],
   "source": [
    "na2018 = pd.concat(df2018, axis=0, join='outer', ignore_index=False, keys=None,\n",
    "                          levels=None, names=None, verify_integrity=False, copy=True)"
   ]
  },
  {
   "cell_type": "code",
   "execution_count": 47,
   "metadata": {},
   "outputs": [
    {
     "name": "stdout",
     "output_type": "stream",
     "text": [
      "Em 2018 foram  10  empresas não encontradas\n"
     ]
    }
   ],
   "source": [
    "na2018 = na2018.drop_duplicates(subset='DOCUMENTO', keep='first')\n",
    "print('Em 2018 foram ', na2018.shape[0], ' empresas não encontradas')"
   ]
  },
  {
   "cell_type": "markdown",
   "metadata": {},
   "source": [
    "## 2019"
   ]
  },
  {
   "cell_type": "code",
   "execution_count": 48,
   "metadata": {},
   "outputs": [],
   "source": [
    "naJan2019 = carteiraJaneiro2019[carteiraJaneiro2019['SEGMENTO_VALOR'] == 'NA']\n",
    "# naJan2019"
   ]
  },
  {
   "cell_type": "code",
   "execution_count": 49,
   "metadata": {},
   "outputs": [],
   "source": [
    "naMai2019 = carteiraMaio2019[carteiraMaio2019['SEGMENTO_VALOR'] == 'NA']\n",
    "# naMai2019"
   ]
  },
  {
   "cell_type": "code",
   "execution_count": 50,
   "metadata": {},
   "outputs": [],
   "source": [
    "naJun2019 = carteiraJunho2019[carteiraJunho2019['SEGMENTO_VALOR'] == 'NA']\n",
    "# naJun2019"
   ]
  },
  {
   "cell_type": "code",
   "execution_count": 51,
   "metadata": {},
   "outputs": [],
   "source": [
    "naJul2019 = carteiraJulho2019[carteiraJulho2019['SEGMENTO_VALOR'] == 'NA']\n",
    "# naJul2019"
   ]
  },
  {
   "cell_type": "code",
   "execution_count": 52,
   "metadata": {},
   "outputs": [],
   "source": [
    "df2019 = [naJan2019, naMai2019, naJun2019, naJul2019]"
   ]
  },
  {
   "cell_type": "code",
   "execution_count": 53,
   "metadata": {},
   "outputs": [],
   "source": [
    "na2019 = pd.concat(df2019, axis=0, join='outer', ignore_index=False, keys=None,\n",
    "                          levels=None, names=None, verify_integrity=False, copy=True)"
   ]
  },
  {
   "cell_type": "code",
   "execution_count": 54,
   "metadata": {},
   "outputs": [
    {
     "name": "stdout",
     "output_type": "stream",
     "text": [
      "Em 2019 foram  109  empresas não encontradas\n"
     ]
    }
   ],
   "source": [
    "na2019 = na2019.drop_duplicates(subset='DOCUMENTO', keep='first')\n",
    "print('Em 2019 foram ', na2019.shape[0], ' empresas não encontradas')"
   ]
  },
  {
   "cell_type": "markdown",
   "metadata": {},
   "source": [
    "## Consolidado não encontradas"
   ]
  },
  {
   "cell_type": "code",
   "execution_count": 55,
   "metadata": {},
   "outputs": [],
   "source": [
    "dfGeral = [pd.concat(df2018), pd.concat(df2019)]\n"
   ]
  },
  {
   "cell_type": "code",
   "execution_count": 56,
   "metadata": {},
   "outputs": [],
   "source": [
    "naGeral = pd.concat(dfGeral, axis=0, join='outer', ignore_index=False, keys=None,\n",
    "                          levels=None, names=None, verify_integrity=False, copy=True)\n",
    "# naGeral"
   ]
  },
  {
   "cell_type": "code",
   "execution_count": 57,
   "metadata": {},
   "outputs": [
    {
     "name": "stdout",
     "output_type": "stream",
     "text": [
      "Geral de  114  empresas não encontradas\n"
     ]
    }
   ],
   "source": [
    "naGeral = naGeral.drop_duplicates(subset='DOCUMENTO', keep='first')\n",
    "print('Geral de ', naGeral.shape[0], ' empresas não encontradas')"
   ]
  },
  {
   "cell_type": "code",
   "execution_count": 58,
   "metadata": {},
   "outputs": [],
   "source": [
    "with pd.ExcelWriter('semSegmentacao.xlsx') as writer:\n",
    "    naGeral.to_excel(writer, sheet_name='clientes')\n",
    "\n",
    "    "
   ]
  },
  {
   "cell_type": "code",
   "execution_count": null,
   "metadata": {},
   "outputs": [],
   "source": []
  }
 ],
 "metadata": {
  "kernelspec": {
   "display_name": "Python 3",
   "language": "python",
   "name": "python3"
  },
  "language_info": {
   "codemirror_mode": {
    "name": "ipython",
    "version": 3
   },
   "file_extension": ".py",
   "mimetype": "text/x-python",
   "name": "python",
   "nbconvert_exporter": "python",
   "pygments_lexer": "ipython3",
   "version": "3.6.8"
  }
 },
 "nbformat": 4,
 "nbformat_minor": 2
}
